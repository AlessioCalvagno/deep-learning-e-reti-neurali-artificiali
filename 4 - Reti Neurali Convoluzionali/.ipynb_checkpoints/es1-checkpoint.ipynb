{
 "cells": [
  {
   "cell_type": "markdown",
   "id": "95d1ce7d",
   "metadata": {},
   "source": [
    "### 1) Carica il dataset food/no_food\n",
    "(puoi fare un ciclo for o usare flow_from_directory)\n",
    "### 2) Usa sempre ResNet50 per ottenere una matrice di features (train e test)\n",
    "(devi ottenere due matrici di dimensione (3000, 2048) e (1000, 2048))\n",
    "### 3) Addestra una regressione logistica\n",
    "(esatto, la resnet fa heavy lifting.. e sulle features basta un modello molto semplice)\n",
    "### 4) Riesci ad avere >.75 in test?\n",
    "### 5) Visualizza alcune immagini, la ground truth, e la predizione"
   ]
  },
  {
   "cell_type": "code",
   "execution_count": 1,
   "id": "d87b314d",
   "metadata": {},
   "outputs": [
    {
     "name": "stdout",
     "output_type": "stream",
     "text": [
      "WARNING:tensorflow:From C:\\Users\\aless\\AppData\\Local\\Temp\\ipykernel_10988\\34794816.py:7: The name tf.logging.set_verbosity is deprecated. Please use tf.compat.v1.logging.set_verbosity instead.\n",
      "\n"
     ]
    }
   ],
   "source": [
    "#say no to warnings!\n",
    "import warnings\n",
    "warnings.filterwarnings(\"ignore\")\n",
    "import os\n",
    "os.environ['TF_CPP_MIN_LOG_LEVEL'] = '3' \n",
    "import tensorflow as tf\n",
    "tf.compat.v1.logging.set_verbosity(tf.compat.v1.logging.ERROR)"
   ]
  },
  {
   "cell_type": "code",
   "execution_count": 35,
   "id": "ebdd6628",
   "metadata": {},
   "outputs": [],
   "source": [
    "import matplotlib.pyplot as plt\n",
    "import numpy as np\n",
    "import os\n",
    "from sklearn.linear_model import LogisticRegression\n",
    "from sklearn.metrics import classification_report\n",
    "from tensorflow.keras.preprocessing.image import \\\n",
    "    ImageDataGenerator,load_img,array_to_img,img_to_array\n",
    "from tensorflow.keras.applications import resnet50,ResNet50\n",
    "from tensorflow.keras.layers import GlobalAveragePooling2D, Dense\n",
    "from tensorflow.keras.models import Model\n",
    "from tqdm import tqdm"
   ]
  },
  {
   "cell_type": "markdown",
   "id": "68209226",
   "metadata": {},
   "source": [
    "# DATASET"
   ]
  },
  {
   "cell_type": "code",
   "execution_count": 16,
   "id": "964b6244",
   "metadata": {},
   "outputs": [],
   "source": [
    "#use util custom function\n",
    "def read_dataset(directory,dataset_type=\"train\"):\n",
    "    subdirectories = [\"food_images\",\"negative_non_food\"]\n",
    "    X = []\n",
    "    y = []\n",
    "    for subdirectory in subdirectories:\n",
    "        subdirectory_path = os.path.join(directory,subdirectory)\n",
    "        filenames = os.listdir(subdirectory_path)\n",
    "        jpg_files = [f for f in filenames if f.endswith('.jpg')]\n",
    "\n",
    "        for filename in tqdm(jpg_files, desc=f\"Reading {dataset_type}/{subdirectory}\",\n",
    "                            unit=\"item\"):\n",
    "            img_path = os.path.join(subdirectory_path,filename)\n",
    "            img = load_img(img_path,target_size=(224,224))\n",
    "            img_array = img_to_array(img)\n",
    "            X.append(img_array)\n",
    "            y.append(1 if subdirectory == \"food_images\" else 0)\n",
    "            \n",
    "    return (np.array(X),np.array(y))\n"
   ]
  },
  {
   "cell_type": "code",
   "execution_count": 24,
   "id": "d3a15cf6",
   "metadata": {},
   "outputs": [
    {
     "name": "stderr",
     "output_type": "stream",
     "text": [
      "Reading train/food_images: 100%|██████████| 228/228 [00:01<00:00, 195.45item/s]\n",
      "Reading train/negative_non_food: 100%|██████████| 228/228 [00:02<00:00, 107.92item/s]\n",
      "Reading test/food_images: 100%|██████████| 51/51 [00:00<00:00, 183.33item/s]\n",
      "Reading test/negative_non_food: 100%|██████████| 51/51 [00:00<00:00, 144.20item/s]"
     ]
    },
    {
     "name": "stdout",
     "output_type": "stream",
     "text": [
      "CPU times: total: 1.03 s\n",
      "Wall time: 4.2 s\n"
     ]
    },
    {
     "name": "stderr",
     "output_type": "stream",
     "text": [
      "\n"
     ]
    }
   ],
   "source": [
    "%%time\n",
    "train_path = os.path.join(\"food_data_light\",\"train\")\n",
    "test_path = os.path.join(\"food_data_light\",\"test\")\n",
    "# train_path = os.path.join(\"food_data\",\"train\")\n",
    "# test_path = os.path.join(\"food_data\",\"test\")\n",
    "\n",
    "X_train_img, y_train = read_dataset(train_path)\n",
    "X_test_img, y_test = read_dataset(test_path,\"test\")"
   ]
  },
  {
   "cell_type": "code",
   "execution_count": 25,
   "id": "7ad07cd1",
   "metadata": {},
   "outputs": [
    {
     "name": "stdout",
     "output_type": "stream",
     "text": [
      "(array([0, 1]), array([228, 228], dtype=int64))\n",
      "(array([0, 1]), array([51, 51], dtype=int64))\n"
     ]
    }
   ],
   "source": [
    "print(np.unique(y_train, return_counts=True))\n",
    "print(np.unique(y_test, return_counts=True))"
   ]
  },
  {
   "cell_type": "code",
   "execution_count": 26,
   "id": "970519c7",
   "metadata": {},
   "outputs": [
    {
     "name": "stdout",
     "output_type": "stream",
     "text": [
      "X_train_img: (456, 224, 224, 3)\n",
      "X_test_img: (102, 224, 224, 3)\n",
      "y_train: (456,)\n",
      "y_test: (102,)\n"
     ]
    }
   ],
   "source": [
    "print(\"X_train_img:\",X_train_img.shape)\n",
    "print(\"X_test_img:\",X_test_img.shape)\n",
    "print(\"y_train:\",y_train.shape)\n",
    "print(\"y_test:\",y_test.shape)"
   ]
  },
  {
   "cell_type": "markdown",
   "id": "9089b7d7",
   "metadata": {},
   "source": [
    "# MODEL\n"
   ]
  },
  {
   "cell_type": "code",
   "execution_count": 22,
   "id": "f1ec5044",
   "metadata": {},
   "outputs": [
    {
     "name": "stdout",
     "output_type": "stream",
     "text": [
      "Original #layers: 175\n"
     ]
    }
   ],
   "source": [
    "#Use ResNet50 only for feature extraction\n",
    "base_model = ResNet50(include_top=False, weights='imagenet')\n",
    "\n",
    "print(f\"Original #layers: {len(base_model.layers)}\")"
   ]
  },
  {
   "cell_type": "code",
   "execution_count": 34,
   "id": "a701a9b7",
   "metadata": {},
   "outputs": [
    {
     "name": "stdout",
     "output_type": "stream",
     "text": [
      "\u001b[1m15/15\u001b[0m \u001b[32m━━━━━━━━━━━━━━━━━━━━\u001b[0m\u001b[37m\u001b[0m \u001b[1m20s\u001b[0m 1s/step\n",
      "(456, 2048)\n",
      "\u001b[1m4/4\u001b[0m \u001b[32m━━━━━━━━━━━━━━━━━━━━\u001b[0m\u001b[37m\u001b[0m \u001b[1m6s\u001b[0m 1s/step\n",
      "(102, 2048)\n"
     ]
    }
   ],
   "source": [
    "X_train = GlobalAveragePooling2D()(base_model.predict(X_train_img))\n",
    "print(X_train.shape)\n",
    "X_test = GlobalAveragePooling2D()(base_model.predict(X_test_img))\n",
    "print(X_test.shape)"
   ]
  },
  {
   "cell_type": "code",
   "execution_count": 38,
   "id": "a32348db",
   "metadata": {},
   "outputs": [
    {
     "name": "stdout",
     "output_type": "stream",
     "text": [
      "              precision    recall  f1-score   support\n",
      "\n",
      "           0       0.98      0.82      0.89        51\n",
      "           1       0.85      0.98      0.91        51\n",
      "\n",
      "    accuracy                           0.90       102\n",
      "   macro avg       0.91      0.90      0.90       102\n",
      "weighted avg       0.91      0.90      0.90       102\n",
      "\n"
     ]
    }
   ],
   "source": [
    "classification_model = LogisticRegression(verbose=5)\n",
    "classification_model.fit(X_train,y_train)\n",
    "\n",
    "y_pred = classification_model.predict(X_test)\n",
    "\n",
    "print(classification_report(y_test,y_pred))"
   ]
  }
 ],
 "metadata": {
  "kernelspec": {
   "display_name": "Python 3 (ipykernel)",
   "language": "python",
   "name": "python3"
  },
  "language_info": {
   "codemirror_mode": {
    "name": "ipython",
    "version": 3
   },
   "file_extension": ".py",
   "mimetype": "text/x-python",
   "name": "python",
   "nbconvert_exporter": "python",
   "pygments_lexer": "ipython3",
   "version": "3.11.5"
  }
 },
 "nbformat": 4,
 "nbformat_minor": 5
}
