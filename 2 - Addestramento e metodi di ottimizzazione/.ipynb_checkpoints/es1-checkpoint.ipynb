{
 "cells": [
  {
   "cell_type": "markdown",
   "id": "eb17be40",
   "metadata": {},
   "source": [
    "### Partiamo dal solito BreastCancer dataset e modello (codice sotto)\n",
    "### Scrivi TRE callbacks\n",
    "- (1) un batch logger che salvi la loss ad ogni batch\n",
    "- (2) un learning rate scheduler che setti il LR a 0.001 in epoche pari e 0.005 in epoche dispari\n",
    "- (3) un early stopper che fermi il training se la validation accuracy sale sopra .9\n",
    "### Fai girare il training con 100 epoche e le tre callbacks\n",
    "### Visualizza, allineandole, le loss per batch ed epoca"
   ]
  },
  {
   "cell_type": "code",
   "execution_count": 1,
   "id": "203df813",
   "metadata": {},
   "outputs": [
    {
     "name": "stdout",
     "output_type": "stream",
     "text": [
      "WARNING:tensorflow:From C:\\Users\\aless\\AppData\\Local\\Temp\\ipykernel_21952\\34794816.py:7: The name tf.logging.set_verbosity is deprecated. Please use tf.compat.v1.logging.set_verbosity instead.\n",
      "\n"
     ]
    }
   ],
   "source": [
    "#say no to warnings!\n",
    "import warnings\n",
    "warnings.filterwarnings(\"ignore\")\n",
    "import os\n",
    "os.environ['TF_CPP_MIN_LOG_LEVEL'] = '3' \n",
    "import tensorflow as tf\n",
    "tf.compat.v1.logging.set_verbosity(tf.compat.v1.logging.ERROR)"
   ]
  },
  {
   "cell_type": "code",
   "execution_count": 2,
   "id": "301861e3",
   "metadata": {},
   "outputs": [],
   "source": [
    "import tensorflow as tf\n",
    "import numpy as np\n",
    "from sklearn import datasets\n",
    "from sklearn.model_selection import train_test_split\n",
    "from tensorflow.keras.backend import clear_session\n",
    "import matplotlib.pyplot as plt\n",
    "from tensorflow.keras import Sequential\n",
    "from tensorflow.keras.layers import InputLayer,Dense"
   ]
  },
  {
   "cell_type": "code",
   "execution_count": 3,
   "id": "8e9c59fa",
   "metadata": {},
   "outputs": [],
   "source": [
    "bc = datasets.load_breast_cancer()\n",
    "X = bc.data\n",
    "y = bc.target"
   ]
  },
  {
   "cell_type": "code",
   "execution_count": 4,
   "id": "870f1cd3",
   "metadata": {},
   "outputs": [],
   "source": [
    "X_train, X_test, y_train, y_test = \\\n",
    "    train_test_split(X, y, test_size = 0.25, stratify=y)"
   ]
  },
  {
   "cell_type": "code",
   "execution_count": 5,
   "id": "6229fe5f",
   "metadata": {},
   "outputs": [],
   "source": [
    "def get_model():\n",
    "    model = Sequential()\n",
    "    model.add(Dense(units=16, activation='relu', input_dim=30))\n",
    "    model.add(Dense(units=1, activation='sigmoid'))\n",
    "    model.compile(\n",
    "        optimizer='adam',\n",
    "        loss='binary_crossentropy', metrics=['accuracy'])\n",
    "    return model"
   ]
  },
  {
   "cell_type": "code",
   "execution_count": 6,
   "id": "13f7c911",
   "metadata": {},
   "outputs": [
    {
     "name": "stdout",
     "output_type": "stream",
     "text": [
      "CPU times: total: 859 ms\n",
      "Wall time: 2.25 s\n"
     ]
    }
   ],
   "source": [
    "%%time\n",
    "clear_session()\n",
    "model = get_model()\n",
    "history = model.fit(X_train, y_train, epochs=5,\n",
    "            validation_data=(X_test, y_test), verbose=0);"
   ]
  },
  {
   "cell_type": "markdown",
   "id": "4161703f",
   "metadata": {},
   "source": [
    "### Da qui in poi!"
   ]
  },
  {
   "cell_type": "code",
   "execution_count": 7,
   "id": "041bf326",
   "metadata": {},
   "outputs": [
    {
     "data": {
      "text/plain": [
       "['model',\n",
       " 'on_batch_begin',\n",
       " 'on_batch_end',\n",
       " 'on_epoch_begin',\n",
       " 'on_epoch_end',\n",
       " 'on_predict_batch_begin',\n",
       " 'on_predict_batch_end',\n",
       " 'on_predict_begin',\n",
       " 'on_predict_end',\n",
       " 'on_test_batch_begin',\n",
       " 'on_test_batch_end',\n",
       " 'on_test_begin',\n",
       " 'on_test_end',\n",
       " 'on_train_batch_begin',\n",
       " 'on_train_batch_end',\n",
       " 'on_train_begin',\n",
       " 'on_train_end',\n",
       " 'params',\n",
       " 'set_model',\n",
       " 'set_params']"
      ]
     },
     "execution_count": 7,
     "metadata": {},
     "output_type": "execute_result"
    }
   ],
   "source": [
    "#Explore methods available in Callback superclass\n",
    "cb = tf.keras.callbacks.Callback()\n",
    "[x for x in dir(cb) if not x.startswith(\"_\")]"
   ]
  },
  {
   "cell_type": "code",
   "execution_count": 8,
   "id": "746b96ba",
   "metadata": {},
   "outputs": [],
   "source": [
    "class MyCallBacks(tf.keras.callbacks.Callback):    \n",
    "    def __init__(self):\n",
    "        self.batch_loss = []\n",
    "        \n",
    "#     def on_train_begin(self,*args,**kwargs):\n",
    "#         print(dir(self.model))\n",
    "    \n",
    "    def on_train_batch_end(self, batch, logs):\n",
    "        self.batch_loss.append(logs[\"loss\"])\n",
    "        \n",
    "    def on_epoch_begin(self, epoch, logs=None):\n",
    "        if(epoch % 2): #odd\n",
    "            self.model.optimizer.learning_rate = 0.005\n",
    "        else: #even\n",
    "            self.model.optimizer.learning_rate = 0.001\n",
    "        print(f\"Begin epoch {epoch} LR = {self.model.optimizer.learning_rate.numpy()}\" )\n",
    "    \n",
    "    def on_epoch_end(self, epoch, logs):\n",
    "        self.model.stop_training = logs[\"val_accuracy\"] >= 0.9\n",
    "        print(f\"At end of epoch {epoch}, stop_training is: {self.model.stop_training}\")\n",
    "        print(f\"val_accuracy = { logs['val_accuracy'] }\")\n",
    "#         test_accuracy = logs[\"val_accuracy\"]\n",
    "#         if(test_accuracy >= 0.9):\n",
    "#             self.model.stop_training = True\n",
    "        \n",
    "        "
   ]
  },
  {
   "cell_type": "code",
   "execution_count": 9,
   "id": "9e5d73fc",
   "metadata": {},
   "outputs": [
    {
     "name": "stdout",
     "output_type": "stream",
     "text": [
      "Begin epoch 0 LR = 0.0010000000474974513\n",
      "At end of epoch 0, stop_training is: False\n",
      "val_accuracy = 0.6293706297874451\n",
      "Begin epoch 1 LR = 0.004999999888241291\n",
      "At end of epoch 1, stop_training is: False\n",
      "val_accuracy = 0.37062937021255493\n",
      "Begin epoch 2 LR = 0.0010000000474974513\n",
      "At end of epoch 2, stop_training is: False\n",
      "val_accuracy = 0.37062937021255493\n",
      "Begin epoch 3 LR = 0.004999999888241291\n",
      "At end of epoch 3, stop_training is: False\n",
      "val_accuracy = 0.37062937021255493\n",
      "Begin epoch 4 LR = 0.0010000000474974513\n",
      "At end of epoch 4, stop_training is: False\n",
      "val_accuracy = 0.6363636255264282\n",
      "Begin epoch 5 LR = 0.004999999888241291\n",
      "At end of epoch 5, stop_training is: False\n",
      "val_accuracy = 0.37062937021255493\n",
      "Begin epoch 6 LR = 0.0010000000474974513\n",
      "At end of epoch 6, stop_training is: False\n",
      "val_accuracy = 0.8251748085021973\n",
      "Begin epoch 7 LR = 0.004999999888241291\n",
      "At end of epoch 7, stop_training is: False\n",
      "val_accuracy = 0.7972028255462646\n",
      "Begin epoch 8 LR = 0.0010000000474974513\n",
      "At end of epoch 8, stop_training is: False\n",
      "val_accuracy = 0.8881118893623352\n",
      "Begin epoch 9 LR = 0.004999999888241291\n",
      "At end of epoch 9, stop_training is: False\n",
      "val_accuracy = 0.8321678042411804\n",
      "Begin epoch 10 LR = 0.0010000000474974513\n",
      "At end of epoch 10, stop_training is: False\n",
      "val_accuracy = 0.8741258978843689\n",
      "Begin epoch 11 LR = 0.004999999888241291\n",
      "At end of epoch 11, stop_training is: False\n",
      "val_accuracy = 0.7762237787246704\n",
      "Begin epoch 12 LR = 0.0010000000474974513\n",
      "At end of epoch 12, stop_training is: False\n",
      "val_accuracy = 0.8951048851013184\n",
      "Begin epoch 13 LR = 0.004999999888241291\n",
      "At end of epoch 13, stop_training is: False\n",
      "val_accuracy = 0.8531468510627747\n",
      "Begin epoch 14 LR = 0.0010000000474974513\n",
      "At end of epoch 14, stop_training is: False\n",
      "val_accuracy = 0.867132842540741\n",
      "Begin epoch 15 LR = 0.004999999888241291\n",
      "At end of epoch 15, stop_training is: False\n",
      "val_accuracy = 0.8951048851013184\n",
      "Begin epoch 16 LR = 0.0010000000474974513\n",
      "At end of epoch 16, stop_training is: False\n",
      "val_accuracy = 0.867132842540741\n",
      "Begin epoch 17 LR = 0.004999999888241291\n",
      "At end of epoch 17, stop_training is: True\n",
      "val_accuracy = 0.9020978808403015\n"
     ]
    }
   ],
   "source": [
    "clear_session()\n",
    "model = get_model()\n",
    "cb = MyCallBacks()\n",
    "history = model.fit(X_train, y_train, epochs=100,\n",
    "            validation_data=(X_test, y_test), verbose=0,\n",
    "                   callbacks=[cb]);"
   ]
  },
  {
   "cell_type": "code",
   "execution_count": 10,
   "id": "1ea8b8b2",
   "metadata": {},
   "outputs": [
    {
     "name": "stdout",
     "output_type": "stream",
     "text": [
      "batch_loss size: 252\n",
      "history epoch loss size: 18\n"
     ]
    }
   ],
   "source": [
    "print(f\"batch_loss size: {len(cb.batch_loss)}\")\n",
    "print(f\"history epoch loss size: {len(history.history['loss'])}\")"
   ]
  },
  {
   "cell_type": "markdown",
   "id": "66500a12",
   "metadata": {},
   "source": [
    "### Plot learning curve \n",
    "Batch loss & epoch loss"
   ]
  },
  {
   "cell_type": "code",
   "execution_count": 14,
   "id": "06c1203e",
   "metadata": {},
   "outputs": [
    {
     "name": "stdout",
     "output_type": "stream",
     "text": [
      "252\n",
      "252\n"
     ]
    }
   ],
   "source": [
    "#batch loss and epoch loss have different size -> let's stretch epoch loss\n",
    "stretched = [[x]*14 for x in history.history[\"loss\"]] #list of lists\n",
    "flatten = [a for b in stretched for a in b] #list of numbers\n",
    "\n",
    "#check\n",
    "print(len(flatten))\n",
    "print(len(cb.batch_loss))"
   ]
  },
  {
   "cell_type": "markdown",
   "id": "6d011d70",
   "metadata": {},
   "source": [
    "Plot learning curves"
   ]
  },
  {
   "cell_type": "code",
   "execution_count": 17,
   "id": "03bcc537",
   "metadata": {},
   "outputs": [
    {
     "data": {
      "image/png": "[encoded data removed]",
      "text/plain": [
       "<Figure size 1000x400 with 1 Axes>"
      ]
     },
     "metadata": {},
     "output_type": "display_data"
    }
   ],
   "source": [
    "plt.figure(figsize=(10,4))\n",
    "plt.plot(cb.batch_loss, label=\"Batch loss\")\n",
    "plt.plot(flatten,'-.', label=\"Epoch loss\")\n",
    "plt.xlabel(\"Batch\")\n",
    "plt.ylabel(\"Binary Cross Entropy loss\")\n",
    "plt.title(\"Learning curve\")\n",
    "plt.legend()\n",
    "plt.show()"
   ]
  }
 ],
 "metadata": {
  "kernelspec": {
   "display_name": "Python 3 (ipykernel)",
   "language": "python",
   "name": "python3"
  },
  "language_info": {
   "codemirror_mode": {
    "name": "ipython",
    "version": 3
   },
   "file_extension": ".py",
   "mimetype": "text/x-python",
   "name": "python",
   "nbconvert_exporter": "python",
   "pygments_lexer": "ipython3",
   "version": "3.11.5"
  }
 },
 "nbformat": 4,
 "nbformat_minor": 5
}
