{
 "cells": [
  {
   "cell_type": "markdown",
   "id": "1f1eac10",
   "metadata": {
    "id": "1f1eac10"
   },
   "source": [
    "# Project: Toxic Comment Filter"
   ]
  },
  {
   "cell_type": "markdown",
   "id": "3504d2cc",
   "metadata": {
    "id": "3504d2cc"
   },
   "source": [
    "Costruire un modello in grado di filtrare i commenti degli utenti in base al grado di dannosità del linguaggio:\n",
    "1. Preprocessare il testo eliminando l'insieme di token che non danno contributo significativo a livello semantico\n",
    "2. Trasformare il corpus testuale in sequenze\n",
    "3. Costruire un modello di Deep Learning comprendente dei layer ricorrenti per un task di classificazione multilabel\n",
    "4. In prediction time, il modello deve ritornare un vettore contenente un 1 o uno 0 in corrispondenza di ogni label presente nel dataset (toxic,\tsevere_toxic,\tobscene,\tthreat,\tinsult,\tidentity_hate). In questo modo, un commento non dannoso sarà classificato da un vettore di soli 0 [0,0,0,0,0,0]. Al contrario, un commento pericoloso presenterà almeno un 1 tra le 6 labels."
   ]
  },
  {
   "cell_type": "code",
   "execution_count": 1,
   "id": "3c5b065a-8ff7-467f-af9a-f61533061b18",
   "metadata": {
    "id": "3c5b065a-8ff7-467f-af9a-f61533061b18"
   },
   "outputs": [],
   "source": [
    "import pandas as pd\n",
    "import numpy as np\n",
    "from tensorflow.keras.backend import clear_session\n",
    "from tensorflow.keras.layers import Input, GRU, Bidirectional, Embedding, Dense, TextVectorization\n",
    "from tensorflow.keras.models import Model\n",
    "from tensorflow.keras.utils import plot_model\n",
    "import matplotlib.pyplot as plt\n",
    "import seaborn as sns\n",
    "from sklearn.model_selection import train_test_split\n",
    "\n",
    "import re\n",
    "import nltk\n",
    "from nltk.corpus import stopwords\n",
    "\n",
    "RANDOM_SEED = 42"
   ]
  },
  {
   "cell_type": "code",
   "execution_count": 2,
   "id": "c2f2fb60",
   "metadata": {
    "id": "c2f2fb60"
   },
   "outputs": [],
   "source": [
    "BASE_URL = \"https://s3.eu-west-3.amazonaws.com/profession.ai/datasets/\"\n",
    "df = pd.read_csv(BASE_URL+\"Filter_Toxic_Comments_dataset.csv\")"
   ]
  },
  {
   "cell_type": "code",
   "execution_count": 3,
   "id": "66c3d701",
   "metadata": {
    "colab": {
     "base_uri": "https://localhost:8080/",
     "height": 206
    },
    "id": "66c3d701",
    "outputId": "3345018c-b9d1-4a41-8a47-3363d1541efd"
   },
   "outputs": [
    {
     "data": {
      "text/html": [
       "<div>\n",
       "<style scoped>\n",
       "    .dataframe tbody tr th:only-of-type {\n",
       "        vertical-align: middle;\n",
       "    }\n",
       "\n",
       "    .dataframe tbody tr th {\n",
       "        vertical-align: top;\n",
       "    }\n",
       "\n",
       "    .dataframe thead th {\n",
       "        text-align: right;\n",
       "    }\n",
       "</style>\n",
       "<table border=\"1\" class=\"dataframe\">\n",
       "  <thead>\n",
       "    <tr style=\"text-align: right;\">\n",
       "      <th></th>\n",
       "      <th>comment_text</th>\n",
       "      <th>toxic</th>\n",
       "      <th>severe_toxic</th>\n",
       "      <th>obscene</th>\n",
       "      <th>threat</th>\n",
       "      <th>insult</th>\n",
       "      <th>identity_hate</th>\n",
       "      <th>sum_injurious</th>\n",
       "    </tr>\n",
       "  </thead>\n",
       "  <tbody>\n",
       "    <tr>\n",
       "      <th>0</th>\n",
       "      <td>Explanation\\nWhy the edits made under my usern...</td>\n",
       "      <td>0</td>\n",
       "      <td>0</td>\n",
       "      <td>0</td>\n",
       "      <td>0</td>\n",
       "      <td>0</td>\n",
       "      <td>0</td>\n",
       "      <td>0</td>\n",
       "    </tr>\n",
       "    <tr>\n",
       "      <th>1</th>\n",
       "      <td>D'aww! He matches this background colour I'm s...</td>\n",
       "      <td>0</td>\n",
       "      <td>0</td>\n",
       "      <td>0</td>\n",
       "      <td>0</td>\n",
       "      <td>0</td>\n",
       "      <td>0</td>\n",
       "      <td>0</td>\n",
       "    </tr>\n",
       "    <tr>\n",
       "      <th>2</th>\n",
       "      <td>Hey man, I'm really not trying to edit war. It...</td>\n",
       "      <td>0</td>\n",
       "      <td>0</td>\n",
       "      <td>0</td>\n",
       "      <td>0</td>\n",
       "      <td>0</td>\n",
       "      <td>0</td>\n",
       "      <td>0</td>\n",
       "    </tr>\n",
       "    <tr>\n",
       "      <th>3</th>\n",
       "      <td>\"\\nMore\\nI can't make any real suggestions on ...</td>\n",
       "      <td>0</td>\n",
       "      <td>0</td>\n",
       "      <td>0</td>\n",
       "      <td>0</td>\n",
       "      <td>0</td>\n",
       "      <td>0</td>\n",
       "      <td>0</td>\n",
       "    </tr>\n",
       "    <tr>\n",
       "      <th>4</th>\n",
       "      <td>You, sir, are my hero. Any chance you remember...</td>\n",
       "      <td>0</td>\n",
       "      <td>0</td>\n",
       "      <td>0</td>\n",
       "      <td>0</td>\n",
       "      <td>0</td>\n",
       "      <td>0</td>\n",
       "      <td>0</td>\n",
       "    </tr>\n",
       "  </tbody>\n",
       "</table>\n",
       "</div>"
      ],
      "text/plain": [
       "                                        comment_text  toxic  severe_toxic  \\\n",
       "0  Explanation\\nWhy the edits made under my usern...      0             0   \n",
       "1  D'aww! He matches this background colour I'm s...      0             0   \n",
       "2  Hey man, I'm really not trying to edit war. It...      0             0   \n",
       "3  \"\\nMore\\nI can't make any real suggestions on ...      0             0   \n",
       "4  You, sir, are my hero. Any chance you remember...      0             0   \n",
       "\n",
       "   obscene  threat  insult  identity_hate  sum_injurious  \n",
       "0        0       0       0              0              0  \n",
       "1        0       0       0              0              0  \n",
       "2        0       0       0              0              0  \n",
       "3        0       0       0              0              0  \n",
       "4        0       0       0              0              0  "
      ]
     },
     "execution_count": 3,
     "metadata": {},
     "output_type": "execute_result"
    }
   ],
   "source": [
    "df.head()"
   ]
  },
  {
   "cell_type": "code",
   "execution_count": 5,
   "id": "19e65ce3",
   "metadata": {
    "colab": {
     "base_uri": "https://localhost:8080/",
     "height": 1000
    },
    "id": "19e65ce3",
    "outputId": "770c62e8-10c6-43c6-af3d-b955fe0fa09e"
   },
   "outputs": [
    {
     "data": {
      "text/html": [
       "<div>\n",
       "<style scoped>\n",
       "    .dataframe tbody tr th:only-of-type {\n",
       "        vertical-align: middle;\n",
       "    }\n",
       "\n",
       "    .dataframe tbody tr th {\n",
       "        vertical-align: top;\n",
       "    }\n",
       "\n",
       "    .dataframe thead th {\n",
       "        text-align: right;\n",
       "    }\n",
       "</style>\n",
       "<table border=\"1\" class=\"dataframe\">\n",
       "  <thead>\n",
       "    <tr style=\"text-align: right;\">\n",
       "      <th></th>\n",
       "      <th>comment_text</th>\n",
       "      <th>toxic</th>\n",
       "      <th>severe_toxic</th>\n",
       "      <th>obscene</th>\n",
       "      <th>threat</th>\n",
       "      <th>insult</th>\n",
       "      <th>identity_hate</th>\n",
       "      <th>sum_injurious</th>\n",
       "    </tr>\n",
       "  </thead>\n",
       "  <tbody>\n",
       "    <tr>\n",
       "      <th>1017</th>\n",
       "      <td>WOULDN'T BE THE FIRST TIME BITCH. FUCK YOU I'L...</td>\n",
       "      <td>1</td>\n",
       "      <td>1</td>\n",
       "      <td>1</td>\n",
       "      <td>1</td>\n",
       "      <td>1</td>\n",
       "      <td>1</td>\n",
       "      <td>6</td>\n",
       "    </tr>\n",
       "    <tr>\n",
       "      <th>1312</th>\n",
       "      <td>SHUT UP, YOU FAT POOP, OR I WILL KICK YOUR ASS!!!</td>\n",
       "      <td>1</td>\n",
       "      <td>1</td>\n",
       "      <td>1</td>\n",
       "      <td>1</td>\n",
       "      <td>1</td>\n",
       "      <td>1</td>\n",
       "      <td>6</td>\n",
       "    </tr>\n",
       "    <tr>\n",
       "      <th>7299</th>\n",
       "      <td>You're a stupid cunt \\n\\nFuck you dumb arse, y...</td>\n",
       "      <td>1</td>\n",
       "      <td>1</td>\n",
       "      <td>1</td>\n",
       "      <td>1</td>\n",
       "      <td>1</td>\n",
       "      <td>1</td>\n",
       "      <td>6</td>\n",
       "    </tr>\n",
       "    <tr>\n",
       "      <th>13648</th>\n",
       "      <td>Bitch \\n\\nYou are a little bitch. I fuckin spe...</td>\n",
       "      <td>1</td>\n",
       "      <td>1</td>\n",
       "      <td>1</td>\n",
       "      <td>1</td>\n",
       "      <td>1</td>\n",
       "      <td>1</td>\n",
       "      <td>6</td>\n",
       "    </tr>\n",
       "    <tr>\n",
       "      <th>13964</th>\n",
       "      <td>I am going to murder ZimZalaBim ST47 for being...</td>\n",
       "      <td>1</td>\n",
       "      <td>1</td>\n",
       "      <td>1</td>\n",
       "      <td>1</td>\n",
       "      <td>1</td>\n",
       "      <td>1</td>\n",
       "      <td>6</td>\n",
       "    </tr>\n",
       "    <tr>\n",
       "      <th>22158</th>\n",
       "      <td>FUCK YOU!!!!!!!!!!!! YOU FUCKING NIGGER BAG OF...</td>\n",
       "      <td>1</td>\n",
       "      <td>1</td>\n",
       "      <td>1</td>\n",
       "      <td>1</td>\n",
       "      <td>1</td>\n",
       "      <td>1</td>\n",
       "      <td>6</td>\n",
       "    </tr>\n",
       "    <tr>\n",
       "      <th>29968</th>\n",
       "      <td>u motherfukkin bitch i want to rape you smelly...</td>\n",
       "      <td>1</td>\n",
       "      <td>1</td>\n",
       "      <td>1</td>\n",
       "      <td>1</td>\n",
       "      <td>1</td>\n",
       "      <td>1</td>\n",
       "      <td>6</td>\n",
       "    </tr>\n",
       "    <tr>\n",
       "      <th>32098</th>\n",
       "      <td>Fuck All Asyriac Nation \\n\\nQamishli belong to...</td>\n",
       "      <td>1</td>\n",
       "      <td>1</td>\n",
       "      <td>1</td>\n",
       "      <td>1</td>\n",
       "      <td>1</td>\n",
       "      <td>1</td>\n",
       "      <td>6</td>\n",
       "    </tr>\n",
       "    <tr>\n",
       "      <th>33951</th>\n",
       "      <td>GO FUCK YOURSELF BITCH.  I HATE YOUR SOULD.  M...</td>\n",
       "      <td>1</td>\n",
       "      <td>1</td>\n",
       "      <td>1</td>\n",
       "      <td>1</td>\n",
       "      <td>1</td>\n",
       "      <td>1</td>\n",
       "      <td>6</td>\n",
       "    </tr>\n",
       "    <tr>\n",
       "      <th>38513</th>\n",
       "      <td>AM GOING TO RAPE YOU IN THE ASS YOU FAT BITCH ...</td>\n",
       "      <td>1</td>\n",
       "      <td>1</td>\n",
       "      <td>1</td>\n",
       "      <td>1</td>\n",
       "      <td>1</td>\n",
       "      <td>1</td>\n",
       "      <td>6</td>\n",
       "    </tr>\n",
       "    <tr>\n",
       "      <th>38578</th>\n",
       "      <td>fuck you honkey, why you hatin' on blacks? You...</td>\n",
       "      <td>1</td>\n",
       "      <td>1</td>\n",
       "      <td>1</td>\n",
       "      <td>1</td>\n",
       "      <td>1</td>\n",
       "      <td>1</td>\n",
       "      <td>6</td>\n",
       "    </tr>\n",
       "    <tr>\n",
       "      <th>46155</th>\n",
       "      <td>So fuck off and die, rape fantasising sluts</td>\n",
       "      <td>1</td>\n",
       "      <td>1</td>\n",
       "      <td>1</td>\n",
       "      <td>1</td>\n",
       "      <td>1</td>\n",
       "      <td>1</td>\n",
       "      <td>6</td>\n",
       "    </tr>\n",
       "    <tr>\n",
       "      <th>55160</th>\n",
       "      <td>ANYONE WHO SUPPORTS THIS IS FUCKING SICK. MEN ...</td>\n",
       "      <td>1</td>\n",
       "      <td>1</td>\n",
       "      <td>1</td>\n",
       "      <td>1</td>\n",
       "      <td>1</td>\n",
       "      <td>1</td>\n",
       "      <td>6</td>\n",
       "    </tr>\n",
       "    <tr>\n",
       "      <th>59279</th>\n",
       "      <td>JEW \\n\\nGet the fuck out of here you jewish so...</td>\n",
       "      <td>1</td>\n",
       "      <td>1</td>\n",
       "      <td>1</td>\n",
       "      <td>1</td>\n",
       "      <td>1</td>\n",
       "      <td>1</td>\n",
       "      <td>6</td>\n",
       "    </tr>\n",
       "    <tr>\n",
       "      <th>65075</th>\n",
       "      <td>FAGGOTS!  YO FUCKER IT WAS FUCKING HAYES YOU F...</td>\n",
       "      <td>1</td>\n",
       "      <td>1</td>\n",
       "      <td>1</td>\n",
       "      <td>1</td>\n",
       "      <td>1</td>\n",
       "      <td>1</td>\n",
       "      <td>6</td>\n",
       "    </tr>\n",
       "    <tr>\n",
       "      <th>67247</th>\n",
       "      <td>YOURE A FRREAKING JEW, AND PLEAZE COMMIT SUICIDE.</td>\n",
       "      <td>1</td>\n",
       "      <td>1</td>\n",
       "      <td>1</td>\n",
       "      <td>1</td>\n",
       "      <td>1</td>\n",
       "      <td>1</td>\n",
       "      <td>6</td>\n",
       "    </tr>\n",
       "    <tr>\n",
       "      <th>73821</th>\n",
       "      <td>Shut up you asswipe, we don't care. I'll decap...</td>\n",
       "      <td>1</td>\n",
       "      <td>1</td>\n",
       "      <td>1</td>\n",
       "      <td>1</td>\n",
       "      <td>1</td>\n",
       "      <td>1</td>\n",
       "      <td>6</td>\n",
       "    </tr>\n",
       "    <tr>\n",
       "      <th>77139</th>\n",
       "      <td>Eat shit you fucking arse rapping jew fucking ...</td>\n",
       "      <td>1</td>\n",
       "      <td>1</td>\n",
       "      <td>1</td>\n",
       "      <td>1</td>\n",
       "      <td>1</td>\n",
       "      <td>1</td>\n",
       "      <td>6</td>\n",
       "    </tr>\n",
       "    <tr>\n",
       "      <th>80612</th>\n",
       "      <td>I hit a jack off all day, after the rape my mo...</td>\n",
       "      <td>1</td>\n",
       "      <td>1</td>\n",
       "      <td>1</td>\n",
       "      <td>1</td>\n",
       "      <td>1</td>\n",
       "      <td>1</td>\n",
       "      <td>6</td>\n",
       "    </tr>\n",
       "    <tr>\n",
       "      <th>82141</th>\n",
       "      <td>Help! \\n\\nIf you become an admin, I will fucki...</td>\n",
       "      <td>1</td>\n",
       "      <td>1</td>\n",
       "      <td>1</td>\n",
       "      <td>1</td>\n",
       "      <td>1</td>\n",
       "      <td>1</td>\n",
       "      <td>6</td>\n",
       "    </tr>\n",
       "    <tr>\n",
       "      <th>99819</th>\n",
       "      <td>Glenn Beck is a faggot. He likes dick in his a...</td>\n",
       "      <td>1</td>\n",
       "      <td>1</td>\n",
       "      <td>1</td>\n",
       "      <td>1</td>\n",
       "      <td>1</td>\n",
       "      <td>1</td>\n",
       "      <td>6</td>\n",
       "    </tr>\n",
       "    <tr>\n",
       "      <th>100222</th>\n",
       "      <td>Urgent!!!! \\n\\nMind yo own fucken buisiness st...</td>\n",
       "      <td>1</td>\n",
       "      <td>1</td>\n",
       "      <td>1</td>\n",
       "      <td>1</td>\n",
       "      <td>1</td>\n",
       "      <td>1</td>\n",
       "      <td>6</td>\n",
       "    </tr>\n",
       "    <tr>\n",
       "      <th>106617</th>\n",
       "      <td>, I hope your retarded kids get anal raped and...</td>\n",
       "      <td>1</td>\n",
       "      <td>1</td>\n",
       "      <td>1</td>\n",
       "      <td>1</td>\n",
       "      <td>1</td>\n",
       "      <td>1</td>\n",
       "      <td>6</td>\n",
       "    </tr>\n",
       "    <tr>\n",
       "      <th>116767</th>\n",
       "      <td>Go fuck yourself!!! you fucking delteted it an...</td>\n",
       "      <td>1</td>\n",
       "      <td>1</td>\n",
       "      <td>1</td>\n",
       "      <td>1</td>\n",
       "      <td>1</td>\n",
       "      <td>1</td>\n",
       "      <td>6</td>\n",
       "    </tr>\n",
       "    <tr>\n",
       "      <th>118928</th>\n",
       "      <td>You god damn son of a bitch you fucking blocke...</td>\n",
       "      <td>1</td>\n",
       "      <td>1</td>\n",
       "      <td>1</td>\n",
       "      <td>1</td>\n",
       "      <td>1</td>\n",
       "      <td>1</td>\n",
       "      <td>6</td>\n",
       "    </tr>\n",
       "    <tr>\n",
       "      <th>123794</th>\n",
       "      <td>She is a Motherfucker \\n\\nI will block you Mot...</td>\n",
       "      <td>1</td>\n",
       "      <td>1</td>\n",
       "      <td>1</td>\n",
       "      <td>1</td>\n",
       "      <td>1</td>\n",
       "      <td>1</td>\n",
       "      <td>6</td>\n",
       "    </tr>\n",
       "    <tr>\n",
       "      <th>133551</th>\n",
       "      <td>and your little faggot boy Propol, pray, pray ...</td>\n",
       "      <td>1</td>\n",
       "      <td>1</td>\n",
       "      <td>1</td>\n",
       "      <td>1</td>\n",
       "      <td>1</td>\n",
       "      <td>1</td>\n",
       "      <td>6</td>\n",
       "    </tr>\n",
       "    <tr>\n",
       "      <th>142513</th>\n",
       "      <td>faggot \\n\\nYou lil piece of shit I haven’t van...</td>\n",
       "      <td>1</td>\n",
       "      <td>1</td>\n",
       "      <td>1</td>\n",
       "      <td>1</td>\n",
       "      <td>1</td>\n",
       "      <td>1</td>\n",
       "      <td>6</td>\n",
       "    </tr>\n",
       "    <tr>\n",
       "      <th>151131</th>\n",
       "      <td>LGBT \\n\\nyou little fuck , are you a fag , tha...</td>\n",
       "      <td>1</td>\n",
       "      <td>1</td>\n",
       "      <td>1</td>\n",
       "      <td>1</td>\n",
       "      <td>1</td>\n",
       "      <td>1</td>\n",
       "      <td>6</td>\n",
       "    </tr>\n",
       "    <tr>\n",
       "      <th>157428</th>\n",
       "      <td>Ok.... \\n\\nBitch i swear to God i will fuckin ...</td>\n",
       "      <td>1</td>\n",
       "      <td>1</td>\n",
       "      <td>1</td>\n",
       "      <td>1</td>\n",
       "      <td>1</td>\n",
       "      <td>1</td>\n",
       "      <td>6</td>\n",
       "    </tr>\n",
       "    <tr>\n",
       "      <th>159400</th>\n",
       "      <td>Shalom \\n\\nSemite, get the fuck out of here. I...</td>\n",
       "      <td>1</td>\n",
       "      <td>1</td>\n",
       "      <td>1</td>\n",
       "      <td>1</td>\n",
       "      <td>1</td>\n",
       "      <td>1</td>\n",
       "      <td>6</td>\n",
       "    </tr>\n",
       "  </tbody>\n",
       "</table>\n",
       "</div>"
      ],
      "text/plain": [
       "                                             comment_text  toxic  \\\n",
       "1017    WOULDN'T BE THE FIRST TIME BITCH. FUCK YOU I'L...      1   \n",
       "1312    SHUT UP, YOU FAT POOP, OR I WILL KICK YOUR ASS!!!      1   \n",
       "7299    You're a stupid cunt \\n\\nFuck you dumb arse, y...      1   \n",
       "13648   Bitch \\n\\nYou are a little bitch. I fuckin spe...      1   \n",
       "13964   I am going to murder ZimZalaBim ST47 for being...      1   \n",
       "22158   FUCK YOU!!!!!!!!!!!! YOU FUCKING NIGGER BAG OF...      1   \n",
       "29968   u motherfukkin bitch i want to rape you smelly...      1   \n",
       "32098   Fuck All Asyriac Nation \\n\\nQamishli belong to...      1   \n",
       "33951   GO FUCK YOURSELF BITCH.  I HATE YOUR SOULD.  M...      1   \n",
       "38513   AM GOING TO RAPE YOU IN THE ASS YOU FAT BITCH ...      1   \n",
       "38578   fuck you honkey, why you hatin' on blacks? You...      1   \n",
       "46155         So fuck off and die, rape fantasising sluts      1   \n",
       "55160   ANYONE WHO SUPPORTS THIS IS FUCKING SICK. MEN ...      1   \n",
       "59279   JEW \\n\\nGet the fuck out of here you jewish so...      1   \n",
       "65075   FAGGOTS!  YO FUCKER IT WAS FUCKING HAYES YOU F...      1   \n",
       "67247   YOURE A FRREAKING JEW, AND PLEAZE COMMIT SUICIDE.      1   \n",
       "73821   Shut up you asswipe, we don't care. I'll decap...      1   \n",
       "77139   Eat shit you fucking arse rapping jew fucking ...      1   \n",
       "80612   I hit a jack off all day, after the rape my mo...      1   \n",
       "82141   Help! \\n\\nIf you become an admin, I will fucki...      1   \n",
       "99819   Glenn Beck is a faggot. He likes dick in his a...      1   \n",
       "100222  Urgent!!!! \\n\\nMind yo own fucken buisiness st...      1   \n",
       "106617  , I hope your retarded kids get anal raped and...      1   \n",
       "116767  Go fuck yourself!!! you fucking delteted it an...      1   \n",
       "118928  You god damn son of a bitch you fucking blocke...      1   \n",
       "123794  She is a Motherfucker \\n\\nI will block you Mot...      1   \n",
       "133551  and your little faggot boy Propol, pray, pray ...      1   \n",
       "142513  faggot \\n\\nYou lil piece of shit I haven’t van...      1   \n",
       "151131  LGBT \\n\\nyou little fuck , are you a fag , tha...      1   \n",
       "157428  Ok.... \\n\\nBitch i swear to God i will fuckin ...      1   \n",
       "159400  Shalom \\n\\nSemite, get the fuck out of here. I...      1   \n",
       "\n",
       "        severe_toxic  obscene  threat  insult  identity_hate  sum_injurious  \n",
       "1017               1        1       1       1              1              6  \n",
       "1312               1        1       1       1              1              6  \n",
       "7299               1        1       1       1              1              6  \n",
       "13648              1        1       1       1              1              6  \n",
       "13964              1        1       1       1              1              6  \n",
       "22158              1        1       1       1              1              6  \n",
       "29968              1        1       1       1              1              6  \n",
       "32098              1        1       1       1              1              6  \n",
       "33951              1        1       1       1              1              6  \n",
       "38513              1        1       1       1              1              6  \n",
       "38578              1        1       1       1              1              6  \n",
       "46155              1        1       1       1              1              6  \n",
       "55160              1        1       1       1              1              6  \n",
       "59279              1        1       1       1              1              6  \n",
       "65075              1        1       1       1              1              6  \n",
       "67247              1        1       1       1              1              6  \n",
       "73821              1        1       1       1              1              6  \n",
       "77139              1        1       1       1              1              6  \n",
       "80612              1        1       1       1              1              6  \n",
       "82141              1        1       1       1              1              6  \n",
       "99819              1        1       1       1              1              6  \n",
       "100222             1        1       1       1              1              6  \n",
       "106617             1        1       1       1              1              6  \n",
       "116767             1        1       1       1              1              6  \n",
       "118928             1        1       1       1              1              6  \n",
       "123794             1        1       1       1              1              6  \n",
       "133551             1        1       1       1              1              6  \n",
       "142513             1        1       1       1              1              6  \n",
       "151131             1        1       1       1              1              6  \n",
       "157428             1        1       1       1              1              6  \n",
       "159400             1        1       1       1              1              6  "
      ]
     },
     "execution_count": 5,
     "metadata": {},
     "output_type": "execute_result"
    }
   ],
   "source": [
    "#BLACK HUMOR ALERT\n",
    "# df[df['sum_injurious']==6]"
   ]
  },
  {
   "cell_type": "markdown",
   "id": "u8ZcSDvQsZem",
   "metadata": {
    "id": "u8ZcSDvQsZem"
   },
   "source": [
    "## Preprocessing\n",
    "Provided dataset contains a lot of noise, meaning that there are a lot of words and punctuation that aren't useful for classification.\n",
    "\n",
    "In text classification is crucial removing such words and punctuation, since the model could learn them, getting confused about text context.\n",
    "\n",
    "In this project the preprocessing consists in 3 steps:\n",
    "1. Lower text (Uppercase text is useless to catch the meaning of the phrase).\n",
    "1. Remove punctuation and other symbols that are imported from \"copy-paste\" operation while building dataset: since comments are extracted from a web blog, some of them have symbols and numbers coming from a logging-like system (like timestamps, ip addresses or URLs). Again these terms are noise regarding the context.\n",
    "1. Remove common english [stopwords](https://kavita-ganesan.com/what-are-stop-words/): these words are commonly used in written or oral communication (since they're fundamental for grammar rules), but they have low discriminating power regarding the text meaning (in a classification task). Examples of stopwords are prepositions and coordinating conjunctions.\n",
    "\n",
    "Preprocessing can be considered a data-cleaning phase, where unnecessary words are filtered from corpus. To accomplish it, the nltk lib is used, in conjucntion with `re` python package.\n",
    "\n",
    "Notice how the preprocessing is data-independent, i.e. there isn't a transformer that is fitted on data (like in numerical normalization for example)."
   ]
  },
  {
   "cell_type": "code",
   "execution_count": 7,
   "id": "V9KxuZLosXBZ",
   "metadata": {
    "colab": {
     "base_uri": "https://localhost:8080/"
    },
    "id": "V9KxuZLosXBZ",
    "outputId": "d2e24ff3-b7c3-4441-ca3e-57293b707b20"
   },
   "outputs": [
    {
     "name": "stderr",
     "output_type": "stream",
     "text": [
      "[nltk_data] Downloading package stopwords to\n",
      "[nltk_data]     C:\\Users\\aless\\AppData\\Roaming\\nltk_data...\n",
      "[nltk_data]   Package stopwords is already up-to-date!\n"
     ]
    },
    {
     "data": {
      "text/plain": [
       "True"
      ]
     },
     "execution_count": 7,
     "metadata": {},
     "output_type": "execute_result"
    }
   ],
   "source": [
    "#download common stopwords list using nltk utility\n",
    "nltk.download('stopwords')"
   ]
  },
  {
   "cell_type": "code",
   "execution_count": 8,
   "id": "ad07ebd7",
   "metadata": {
    "id": "ad07ebd7"
   },
   "outputs": [],
   "source": [
    "def clean_text(text):\n",
    "    \"\"\"\n",
    "    Utility custom function to clean a single text string.\n",
    "    Text is cleaned from punctuation, english common stopwords and\n",
    "    is lowered.\n",
    "\n",
    "    Parameters:\n",
    "    - text (string): English text to be cleaned\n",
    "\n",
    "    Return:\n",
    "    Cleaned text as string.\n",
    "    \"\"\"\n",
    "    # remove punctuation\n",
    "    text = re.sub(r'[^\\w\\s]', '', text)\n",
    "\n",
    "    # lowercase\n",
    "    text = text.lower()\n",
    "    # split text using any whitespace separator (including \\n)\n",
    "    words = text.split()\n",
    "\n",
    "    # remove stopwords\n",
    "    stop_words = set(stopwords.words('english'))\n",
    "    words = [word for word in words if word not in stop_words]\n",
    "\n",
    "    #join words in a string\n",
    "    return ' '.join(words)"
   ]
  },
  {
   "cell_type": "markdown",
   "id": "bfe48e19",
   "metadata": {
    "id": "bfe48e19"
   },
   "source": [
    "Apply custom preprocessing function and collect new records in a new dataframe column."
   ]
  },
  {
   "cell_type": "code",
   "execution_count": 9,
   "id": "b5e9b621",
   "metadata": {
    "colab": {
     "base_uri": "https://localhost:8080/",
     "height": 206
    },
    "id": "b5e9b621",
    "outputId": "312391b1-ed1e-45b8-f653-1b5ecf835f5a"
   },
   "outputs": [
    {
     "data": {
      "text/html": [
       "<div>\n",
       "<style scoped>\n",
       "    .dataframe tbody tr th:only-of-type {\n",
       "        vertical-align: middle;\n",
       "    }\n",
       "\n",
       "    .dataframe tbody tr th {\n",
       "        vertical-align: top;\n",
       "    }\n",
       "\n",
       "    .dataframe thead th {\n",
       "        text-align: right;\n",
       "    }\n",
       "</style>\n",
       "<table border=\"1\" class=\"dataframe\">\n",
       "  <thead>\n",
       "    <tr style=\"text-align: right;\">\n",
       "      <th></th>\n",
       "      <th>comment_text</th>\n",
       "      <th>toxic</th>\n",
       "      <th>severe_toxic</th>\n",
       "      <th>obscene</th>\n",
       "      <th>threat</th>\n",
       "      <th>insult</th>\n",
       "      <th>identity_hate</th>\n",
       "      <th>sum_injurious</th>\n",
       "      <th>comment_text_clean</th>\n",
       "    </tr>\n",
       "  </thead>\n",
       "  <tbody>\n",
       "    <tr>\n",
       "      <th>0</th>\n",
       "      <td>Explanation\\nWhy the edits made under my usern...</td>\n",
       "      <td>0</td>\n",
       "      <td>0</td>\n",
       "      <td>0</td>\n",
       "      <td>0</td>\n",
       "      <td>0</td>\n",
       "      <td>0</td>\n",
       "      <td>0</td>\n",
       "      <td>explanation edits made username hardcore metal...</td>\n",
       "    </tr>\n",
       "    <tr>\n",
       "      <th>1</th>\n",
       "      <td>D'aww! He matches this background colour I'm s...</td>\n",
       "      <td>0</td>\n",
       "      <td>0</td>\n",
       "      <td>0</td>\n",
       "      <td>0</td>\n",
       "      <td>0</td>\n",
       "      <td>0</td>\n",
       "      <td>0</td>\n",
       "      <td>daww matches background colour im seemingly st...</td>\n",
       "    </tr>\n",
       "    <tr>\n",
       "      <th>2</th>\n",
       "      <td>Hey man, I'm really not trying to edit war. It...</td>\n",
       "      <td>0</td>\n",
       "      <td>0</td>\n",
       "      <td>0</td>\n",
       "      <td>0</td>\n",
       "      <td>0</td>\n",
       "      <td>0</td>\n",
       "      <td>0</td>\n",
       "      <td>hey man im really trying edit war guy constant...</td>\n",
       "    </tr>\n",
       "    <tr>\n",
       "      <th>3</th>\n",
       "      <td>\"\\nMore\\nI can't make any real suggestions on ...</td>\n",
       "      <td>0</td>\n",
       "      <td>0</td>\n",
       "      <td>0</td>\n",
       "      <td>0</td>\n",
       "      <td>0</td>\n",
       "      <td>0</td>\n",
       "      <td>0</td>\n",
       "      <td>cant make real suggestions improvement wondere...</td>\n",
       "    </tr>\n",
       "    <tr>\n",
       "      <th>4</th>\n",
       "      <td>You, sir, are my hero. Any chance you remember...</td>\n",
       "      <td>0</td>\n",
       "      <td>0</td>\n",
       "      <td>0</td>\n",
       "      <td>0</td>\n",
       "      <td>0</td>\n",
       "      <td>0</td>\n",
       "      <td>0</td>\n",
       "      <td>sir hero chance remember page thats</td>\n",
       "    </tr>\n",
       "  </tbody>\n",
       "</table>\n",
       "</div>"
      ],
      "text/plain": [
       "                                        comment_text  toxic  severe_toxic  \\\n",
       "0  Explanation\\nWhy the edits made under my usern...      0             0   \n",
       "1  D'aww! He matches this background colour I'm s...      0             0   \n",
       "2  Hey man, I'm really not trying to edit war. It...      0             0   \n",
       "3  \"\\nMore\\nI can't make any real suggestions on ...      0             0   \n",
       "4  You, sir, are my hero. Any chance you remember...      0             0   \n",
       "\n",
       "   obscene  threat  insult  identity_hate  sum_injurious  \\\n",
       "0        0       0       0              0              0   \n",
       "1        0       0       0              0              0   \n",
       "2        0       0       0              0              0   \n",
       "3        0       0       0              0              0   \n",
       "4        0       0       0              0              0   \n",
       "\n",
       "                                  comment_text_clean  \n",
       "0  explanation edits made username hardcore metal...  \n",
       "1  daww matches background colour im seemingly st...  \n",
       "2  hey man im really trying edit war guy constant...  \n",
       "3  cant make real suggestions improvement wondere...  \n",
       "4                sir hero chance remember page thats  "
      ]
     },
     "execution_count": 9,
     "metadata": {},
     "output_type": "execute_result"
    }
   ],
   "source": [
    "df[\"comment_text_clean\"] = df[\"comment_text\"].apply(clean_text)\n",
    "\n",
    "df.head()"
   ]
  },
  {
   "cell_type": "code",
   "execution_count": 10,
   "id": "4ed129b8",
   "metadata": {},
   "outputs": [],
   "source": [
    "raw_len = df[\"comment_text\"].apply(len)\n",
    "clean_len = df[\"comment_text_clean\"].apply(len)"
   ]
  },
  {
   "cell_type": "code",
   "execution_count": 11,
   "id": "834c03d7",
   "metadata": {
    "colab": {
     "base_uri": "https://localhost:8080/",
     "height": 564
    },
    "id": "834c03d7",
    "outputId": "02e0f029-10c3-44a6-9081-e9e507d55d6e"
   },
   "outputs": [
    {
     "data": {
      "image/png": "[encoded data removed]",
      "text/plain": [
       "<Figure size 1000x600 with 1 Axes>"
      ]
     },
     "metadata": {},
     "output_type": "display_data"
    }
   ],
   "source": [
    "plt.figure(figsize=(10,6))\n",
    "sns.histplot(x=raw_len, label=\"Raw text\", kde=True)\n",
    "sns.histplot(x=clean_len, label=\"Clean text\", kde=True)\n",
    "plt.legend()\n",
    "plt.xlabel('Length of Strings')\n",
    "plt.title('Distribution of string lengths before and after preprocessing')\n",
    "plt.show()"
   ]
  },
  {
   "cell_type": "code",
   "execution_count": 12,
   "id": "5e82f40a",
   "metadata": {
    "colab": {
     "base_uri": "https://localhost:8080/",
     "height": 545
    },
    "id": "5e82f40a",
    "outputId": "28f6b6d8-a67e-43ce-e7ab-8bb4059483bf"
   },
   "outputs": [
    {
     "data": {
      "image/png": "[encoded data removed]",
      "text/plain": [
       "<Figure size 1000x600 with 1 Axes>"
      ]
     },
     "metadata": {},
     "output_type": "display_data"
    }
   ],
   "source": [
    "plt.figure(figsize=(10,6))\n",
    "sns.boxplot(data=[raw_len.values, clean_len.values], orient=\"h\")\n",
    "plt.legend([\"Raw text\",\"Clean text\"])\n",
    "plt.title('Distribution of string lengths before and after preprocessing')\n",
    "plt.yticks([])\n",
    "plt.gca().grid(True)\n",
    "plt.show()"
   ]
  },
  {
   "cell_type": "code",
   "execution_count": 13,
   "id": "b0bb2a24",
   "metadata": {
    "colab": {
     "base_uri": "https://localhost:8080/",
     "height": 130
    },
    "id": "b0bb2a24",
    "outputId": "f42e85c5-accf-4b22-8d53-6f077ee98d28"
   },
   "outputs": [
    {
     "name": "stdout",
     "output_type": "stream",
     "text": [
      "Text lenght summary stats:\n"
     ]
    },
    {
     "data": {
      "text/html": [
       "<div>\n",
       "<style scoped>\n",
       "    .dataframe tbody tr th:only-of-type {\n",
       "        vertical-align: middle;\n",
       "    }\n",
       "\n",
       "    .dataframe tbody tr th {\n",
       "        vertical-align: top;\n",
       "    }\n",
       "\n",
       "    .dataframe thead th {\n",
       "        text-align: right;\n",
       "    }\n",
       "</style>\n",
       "<table border=\"1\" class=\"dataframe\">\n",
       "  <thead>\n",
       "    <tr style=\"text-align: right;\">\n",
       "      <th></th>\n",
       "      <th>count</th>\n",
       "      <th>mean</th>\n",
       "      <th>std</th>\n",
       "      <th>min</th>\n",
       "      <th>25%</th>\n",
       "      <th>50%</th>\n",
       "      <th>75%</th>\n",
       "      <th>max</th>\n",
       "    </tr>\n",
       "  </thead>\n",
       "  <tbody>\n",
       "    <tr>\n",
       "      <th>comment_text</th>\n",
       "      <td>159571.0</td>\n",
       "      <td>394.073221</td>\n",
       "      <td>590.720282</td>\n",
       "      <td>6.0</td>\n",
       "      <td>96.0</td>\n",
       "      <td>205.0</td>\n",
       "      <td>435.0</td>\n",
       "      <td>5000.0</td>\n",
       "    </tr>\n",
       "    <tr>\n",
       "      <th>comment_text_clean</th>\n",
       "      <td>159571.0</td>\n",
       "      <td>254.818081</td>\n",
       "      <td>396.302004</td>\n",
       "      <td>0.0</td>\n",
       "      <td>60.0</td>\n",
       "      <td>131.0</td>\n",
       "      <td>278.0</td>\n",
       "      <td>5000.0</td>\n",
       "    </tr>\n",
       "  </tbody>\n",
       "</table>\n",
       "</div>"
      ],
      "text/plain": [
       "                       count        mean         std  min   25%    50%    75%  \\\n",
       "comment_text        159571.0  394.073221  590.720282  6.0  96.0  205.0  435.0   \n",
       "comment_text_clean  159571.0  254.818081  396.302004  0.0  60.0  131.0  278.0   \n",
       "\n",
       "                       max  \n",
       "comment_text        5000.0  \n",
       "comment_text_clean  5000.0  "
      ]
     },
     "execution_count": 13,
     "metadata": {},
     "output_type": "execute_result"
    }
   ],
   "source": [
    "print(\"Text lenght summary stats:\")\n",
    "pd.DataFrame([raw_len.describe(),clean_len.describe()])"
   ]
  },
  {
   "cell_type": "markdown",
   "id": "499ccb8a",
   "metadata": {
    "id": "499ccb8a"
   },
   "source": [
    "Cose da notare:\n",
    "1. Mediana diversa (e anche parecchio), stessa cosa per la media.\n",
    "Quindi nel complesso la pulizia rimuove un bel po' di parole e quindi creerà un modello migliore (vocabolario meno dispersivo).\n",
    "1. Valore minimo dopo pulizia: lunghezza = 0 significa che non ho una vera e propria frase -> rimuovere gli item con lunghezza = 0 (se sono tanti... Se sono pochi volendo possono restare)."
   ]
  },
  {
   "cell_type": "code",
   "execution_count": 14,
   "id": "f0dd56eb",
   "metadata": {
    "colab": {
     "base_uri": "https://localhost:8080/",
     "height": 178
    },
    "id": "f0dd56eb",
    "outputId": "291bf1e2-c928-404a-f7f7-b5b8d4bb3c37"
   },
   "outputs": [
    {
     "data": {
      "text/plain": [
       "comment_text_clean\n",
       "False    159552\n",
       "True         19\n",
       "Name: count, dtype: int64"
      ]
     },
     "execution_count": 14,
     "metadata": {},
     "output_type": "execute_result"
    }
   ],
   "source": [
    "(clean_len == 0).value_counts()"
   ]
  },
  {
   "cell_type": "code",
   "execution_count": 15,
   "id": "57a5be16",
   "metadata": {},
   "outputs": [
    {
     "name": "stdout",
     "output_type": "stream",
     "text": [
      "(159552, 9)\n"
     ]
    }
   ],
   "source": [
    "df = df[clean_len != 0]\n",
    "\n",
    "#check\n",
    "print(df.shape)\n",
    "\n",
    "#reassign utils variables\n",
    "raw_len = df[\"comment_text\"].apply(len)\n",
    "clean_len = df[\"comment_text_clean\"].apply(len)"
   ]
  },
  {
   "cell_type": "code",
   "execution_count": 16,
   "id": "42745595",
   "metadata": {},
   "outputs": [
    {
     "data": {
      "text/plain": [
       "131.0"
      ]
     },
     "execution_count": 16,
     "metadata": {},
     "output_type": "execute_result"
    }
   ],
   "source": [
    "float(np.median(clean_len))"
   ]
  },
  {
   "cell_type": "markdown",
   "id": "5f49ba47",
   "metadata": {
    "id": "5f49ba47"
   },
   "source": [
    "In base a quanto scritto nella cella precedente, bisogna fare un passo di preprocessing anche per le classi.\n",
    "Nel dataframe di partenza ho 1 colonna per ogni classe, mentre qui devo accorpare queste colonne in una singola colonna contenente una lista.\n"
   ]
  },
  {
   "cell_type": "markdown",
   "id": "38ab0911",
   "metadata": {},
   "source": [
    "## Dataset split \n",
    "Here `train_test_split` from sklearn is used twice to get train, validation and test set. They will be used during model training."
   ]
  },
  {
   "cell_type": "code",
   "execution_count": 17,
   "id": "17b931ca",
   "metadata": {},
   "outputs": [
    {
     "name": "stdout",
     "output_type": "stream",
     "text": [
      "Train df shape: (95730, 9)\n",
      "Test df shape: (31911, 9)\n",
      "Valid df shape: (31911, 9)\n"
     ]
    }
   ],
   "source": [
    "df_train_val, df_test = train_test_split(df, test_size=0.2,\n",
    "                                         random_state=RANDOM_SEED)\n",
    "\n",
    "df_train, df_valid = train_test_split(df_train_val, test_size=0.25,\n",
    "                                   random_state=RANDOM_SEED)\n",
    "#60 % train, 20 % valid, 20% test\n",
    "\n",
    "#check\n",
    "print(f\"Train df shape: {df_train.shape}\")\n",
    "print(f\"Test df shape: {df_test.shape}\")\n",
    "print(f\"Valid df shape: {df_valid.shape}\")\n"
   ]
  },
  {
   "cell_type": "markdown",
   "id": "534f0978",
   "metadata": {},
   "source": [
    "## SMOTE"
   ]
  },
  {
   "cell_type": "markdown",
   "id": "1b8eb476",
   "metadata": {},
   "source": [
    "Before moving on, one should check classes distribution. \n",
    "\n",
    "In similar tasks quite often the dataset in unbalanced, and it's a problem during model fitting, since it could lead to overfitting.\n",
    "\n",
    "### TODO: Mettere qualche link di spiegazione\n",
    "\n",
    "To explore classes distribution we can use \"sum_injurous\" feature, that is a summary of possible records' classes: if this feature is 0, the record belongs to \"neutral\" class, in all other cases it belongs at least to one \"toxic\" class."
   ]
  },
  {
   "cell_type": "code",
   "execution_count": 18,
   "id": "345fac39",
   "metadata": {},
   "outputs": [
    {
     "data": {
      "image/png": "[encoded data removed]",
      "text/plain": [
       "<Figure size 600x600 with 1 Axes>"
      ]
     },
     "metadata": {},
     "output_type": "display_data"
    }
   ],
   "source": [
    "#temporary workaround to get a legend in histplot\n",
    "df[\"dataset\"] = 'Whole dataset'\n",
    "df_train[\"dataset\"] = 'Train set'\n",
    "tmp = pd.concat([df,df_train])\n",
    "\n",
    "#plot\n",
    "plt.figure(figsize=(6,6))\n",
    "sns.histplot(data=tmp, x=\"sum_injurious\",\n",
    "             hue=\"dataset\", multiple=\"dodge\")\n",
    "plt.title(\"sum_injurious absolute frequency distribution\")\n",
    "plt.show()\n",
    "\n",
    "#back to original dataframes\n",
    "df.drop([\"dataset\"], axis=1, inplace=True)\n",
    "df_train.drop([\"dataset\"], axis=1, inplace=True)"
   ]
  },
  {
   "cell_type": "markdown",
   "id": "a052f308",
   "metadata": {},
   "source": [
    "As one can sees, dataset is very unbalaced towards \"neutral\" class (i.e. sum_injurious = 0), meaning that most of comments aren't toxic at all. \n",
    "\n",
    "This unbalace is present in train set too. \n",
    "\n",
    "This unbalance must be handled somehow, and when the unbalance is very strong (like in this case), the best technique is SMOTE. \n",
    "SMOTE is..."
   ]
  },
  {
   "cell_type": "markdown",
   "id": "d1a47112",
   "metadata": {},
   "source": [
    "## PROBLEMA\n",
    "Lo SMOTE lavora con dati numerici, e il testo non è numeri. Che cazzo.\n",
    "\n",
    "Quindi devo trasformare il testo in numeri (eh grazie, lo sapevamo già).\n",
    "Ci sono due alternative:\n",
    "1. Uso come numeri i token, cioè quello che esce da TextVectorizaion, e quindi in modo tranquillo lo smote ha come feature uno scalare (feature 1D) che è il token corrispondente ad ogni parola. \n",
    "In questo modo il risultato è che lo SMOTE va a creare nuovi record, intesi come sequenze di token (quindi un po' come sostiuire parole con dei sinonimi). WARNING: qui si ignora completamente il significato della frase/parole.\n",
    "1. Usare come numeri l'embedding delle sequenze. In questo caso, la generazione di elementi sintetici è più raffinata poichè lavoro su più dimensioni (quindi ho più varietà di features) e parto comunque da dei numeri che tengono già conto del contenuto semantico della frase. \n",
    "\n",
    "In base a queste considerazioni sarebbe meglio usare la strada 2, MA C'È UN ALTRO PROBLEMA, CAZZO!\n",
    "\n",
    "L'embedding è un layer a tutti gli effetti, che va allenato sui dati che hai. E l'allenamento deve essere supervisionato. E tu hai come y_true le classi delle frasi, non il risultato atteso dell'embedding. Evviva sta minchia.\n",
    "\n",
    "Quindi con la strada 2 ti tocca creare una vera e propria rete neurale, che usi solo come util per fare un fit dell'embedding per poi riciclare il layer di embedding (aka transfer learning) nel modello finale (perchè questo layer di embedding poi non va più allenato). \n",
    "\n",
    "E COME CAZZO SI FA QUESTA RETE DI SUPPORTO?\n",
    "[Qui](https://machinelearningmastery.com/use-word-embedding-layers-deep-learning-keras/) e [qui](https://www.tensorflow.org/text/guide/word_embeddings) si suggerisce di creare una rete semplice del tipo:\n",
    "\n",
    "Input -> TextVectorization (token) -> Embedding -> Flatten -> Dense (con sigmoide per simulare classificazione). \n",
    "\n",
    "E poi questa mini rete si allena, e mi prendo solo l'embedding, fregandomene del layer denso. \n",
    "\n",
    "In questo caso potrei allenare la rete usando la variabile \"sum_injuries\" come se fosse una semplice classificazione multilabel tramite softmax, perchè del resto qui non mi importa in sè di vedere a quale classe tossica appartiene il record in sè. Poi nella rete finale, questo sarà deciso tramite i layer ricorrenti.\n",
    "\n",
    "\n",
    "#### Cosa dicee la documentazione di smote:\n",
    "[La doc di smote](https://imbalanced-learn.org/stable/references/generated/imblearn.over_sampling.SMOTE.html#imblearn.over_sampling.SMOTE) dice che vuole come X una matrice di shape (n_samples, n_features), quindi a 2 dimensioni (come uscirebbe da TextVecotrizaion) e non a 3 dimensioni (come uscirebbe da Embedding)..."
   ]
  },
  {
   "cell_type": "markdown",
   "id": "95f9fb65",
   "metadata": {},
   "source": [
    "Seguo metodo 1, cioè faccio smote di token e poi l'embedding si fa con la rete finale direttamente."
   ]
  },
  {
   "cell_type": "markdown",
   "id": "ca801b10",
   "metadata": {},
   "source": [
    "## EDIT su smote\n",
    "Esiste una versione dello [smote per il caso multilabel](https://github.com/niteshsukhwani/MLSMOTE/tree/master) (come questo caso).\n",
    "\n",
    "Io ho fatto una versione a [classe di questo smote](https://github.com/AlessioCalvagno/MLSMOTE).\n",
    "\n",
    "Si può fare una prova dove lo smote si appoggia ad una distanza di manhattan (per aver valori interi) e poi si fa cast ad int della formula finale, e lavorare con i token (così da aver matrice 2D).\n",
    "\n",
    "In teoria con le variabili categoriche dovrei passare per la metrica [Value Difference Metric](https://imbalanced-learn.org/stable/references/generated/imblearn.metrics.pairwise.ValueDifferenceMetric.html)\n",
    "che è una sorta di matrice di correlazione tra le modalità della feature e le varie classi, però è pensato per il caso label singola, non multilabel, e quindi ritorno al problema di come adattare il tutto a multilabel e questa metrica non so come adattarla.\n"
   ]
  },
  {
   "cell_type": "code",
   "execution_count": 19,
   "id": "2e26abb8",
   "metadata": {},
   "outputs": [],
   "source": [
    "#Get numpy ndarrays from dataframes\n",
    "X_train = df_train[\"comment_text_clean\"].values\n",
    "y_train = df_train.drop([\"comment_text\",\"sum_injurious\",\\\n",
    "                         \"comment_text_clean\"],\n",
    "                        axis=1).values\n",
    "\n",
    "X_test = df_test[\"comment_text_clean\"].values\n",
    "y_test = df_test.drop([\"comment_text\",\"sum_injurious\",\\\n",
    "                         \"comment_text_clean\"],\n",
    "                        axis=1).values\n",
    "\n",
    "X_valid = df_valid[\"comment_text_clean\"].values\n",
    "y_valid = df_valid.drop([\"comment_text\",\"sum_injurious\",\\\n",
    "                         \"comment_text_clean\"],\n",
    "                        axis=1).values"
   ]
  },
  {
   "cell_type": "code",
   "execution_count": 20,
   "id": "ce65c325",
   "metadata": {},
   "outputs": [
    {
     "name": "stdout",
     "output_type": "stream",
     "text": [
      "(95730, 280)\n"
     ]
    }
   ],
   "source": [
    "max_tokens = 10000 # Numero massimo di token nel vocabolario\n",
    "max_len = 280 # Lunghezza massima delle sequenze di input - usare 3° interquartile di lunghezze di sequenza\n",
    "\n",
    "X_train = df_train[\"comment_text_clean\"]\n",
    "y_train = df_train.drop([\"comment_text\",\"sum_injurious\",\\\n",
    "                         \"comment_text_clean\"],\n",
    "                        axis=1)\n",
    "vectorize_layer = TextVectorization(max_tokens=max_tokens, output_mode='int', output_sequence_length=max_len)\n",
    "vectorize_layer.adapt(X_train)\n",
    "\n",
    "X_train_tk = vectorize_layer(X_train)\n",
    "\n",
    "print(X_train_tk.shape)"
   ]
  },
  {
   "cell_type": "code",
   "execution_count": 21,
   "id": "0ff43b4e",
   "metadata": {},
   "outputs": [
    {
     "data": {
      "text/html": [
       "<div>\n",
       "<style scoped>\n",
       "    .dataframe tbody tr th:only-of-type {\n",
       "        vertical-align: middle;\n",
       "    }\n",
       "\n",
       "    .dataframe tbody tr th {\n",
       "        vertical-align: top;\n",
       "    }\n",
       "\n",
       "    .dataframe thead th {\n",
       "        text-align: right;\n",
       "    }\n",
       "</style>\n",
       "<table border=\"1\" class=\"dataframe\">\n",
       "  <thead>\n",
       "    <tr style=\"text-align: right;\">\n",
       "      <th></th>\n",
       "      <th>0</th>\n",
       "      <th>1</th>\n",
       "      <th>2</th>\n",
       "      <th>3</th>\n",
       "      <th>4</th>\n",
       "      <th>5</th>\n",
       "      <th>6</th>\n",
       "      <th>7</th>\n",
       "      <th>8</th>\n",
       "      <th>9</th>\n",
       "      <th>...</th>\n",
       "      <th>270</th>\n",
       "      <th>271</th>\n",
       "      <th>272</th>\n",
       "      <th>273</th>\n",
       "      <th>274</th>\n",
       "      <th>275</th>\n",
       "      <th>276</th>\n",
       "      <th>277</th>\n",
       "      <th>278</th>\n",
       "      <th>279</th>\n",
       "    </tr>\n",
       "  </thead>\n",
       "  <tbody>\n",
       "    <tr>\n",
       "      <th>0</th>\n",
       "      <td>2158</td>\n",
       "      <td>315</td>\n",
       "      <td>326</td>\n",
       "      <td>268</td>\n",
       "      <td>2</td>\n",
       "      <td>524</td>\n",
       "      <td>2</td>\n",
       "      <td>107</td>\n",
       "      <td>9755</td>\n",
       "      <td>1263</td>\n",
       "      <td>...</td>\n",
       "      <td>0</td>\n",
       "      <td>0</td>\n",
       "      <td>0</td>\n",
       "      <td>0</td>\n",
       "      <td>0</td>\n",
       "      <td>0</td>\n",
       "      <td>0</td>\n",
       "      <td>0</td>\n",
       "      <td>0</td>\n",
       "      <td>0</td>\n",
       "    </tr>\n",
       "    <tr>\n",
       "      <th>1</th>\n",
       "      <td>832</td>\n",
       "      <td>2056</td>\n",
       "      <td>588</td>\n",
       "      <td>13</td>\n",
       "      <td>99</td>\n",
       "      <td>15</td>\n",
       "      <td>488</td>\n",
       "      <td>1757</td>\n",
       "      <td>99</td>\n",
       "      <td>680</td>\n",
       "      <td>...</td>\n",
       "      <td>0</td>\n",
       "      <td>0</td>\n",
       "      <td>0</td>\n",
       "      <td>0</td>\n",
       "      <td>0</td>\n",
       "      <td>0</td>\n",
       "      <td>0</td>\n",
       "      <td>0</td>\n",
       "      <td>0</td>\n",
       "      <td>0</td>\n",
       "    </tr>\n",
       "    <tr>\n",
       "      <th>2</th>\n",
       "      <td>3888</td>\n",
       "      <td>17</td>\n",
       "      <td>7924</td>\n",
       "      <td>264</td>\n",
       "      <td>6558</td>\n",
       "      <td>4531</td>\n",
       "      <td>567</td>\n",
       "      <td>197</td>\n",
       "      <td>1853</td>\n",
       "      <td>427</td>\n",
       "      <td>...</td>\n",
       "      <td>0</td>\n",
       "      <td>0</td>\n",
       "      <td>0</td>\n",
       "      <td>0</td>\n",
       "      <td>0</td>\n",
       "      <td>0</td>\n",
       "      <td>0</td>\n",
       "      <td>0</td>\n",
       "      <td>0</td>\n",
       "      <td>0</td>\n",
       "    </tr>\n",
       "    <tr>\n",
       "      <th>3</th>\n",
       "      <td>12</td>\n",
       "      <td>1658</td>\n",
       "      <td>3834</td>\n",
       "      <td>6745</td>\n",
       "      <td>12</td>\n",
       "      <td>311</td>\n",
       "      <td>2748</td>\n",
       "      <td>50</td>\n",
       "      <td>757</td>\n",
       "      <td>1768</td>\n",
       "      <td>...</td>\n",
       "      <td>0</td>\n",
       "      <td>0</td>\n",
       "      <td>0</td>\n",
       "      <td>0</td>\n",
       "      <td>0</td>\n",
       "      <td>0</td>\n",
       "      <td>0</td>\n",
       "      <td>0</td>\n",
       "      <td>0</td>\n",
       "      <td>0</td>\n",
       "    </tr>\n",
       "    <tr>\n",
       "      <th>4</th>\n",
       "      <td>53</td>\n",
       "      <td>1102</td>\n",
       "      <td>3151</td>\n",
       "      <td>434</td>\n",
       "      <td>1102</td>\n",
       "      <td>2079</td>\n",
       "      <td>59</td>\n",
       "      <td>280</td>\n",
       "      <td>503</td>\n",
       "      <td>503</td>\n",
       "      <td>...</td>\n",
       "      <td>0</td>\n",
       "      <td>0</td>\n",
       "      <td>0</td>\n",
       "      <td>0</td>\n",
       "      <td>0</td>\n",
       "      <td>0</td>\n",
       "      <td>0</td>\n",
       "      <td>0</td>\n",
       "      <td>0</td>\n",
       "      <td>0</td>\n",
       "    </tr>\n",
       "  </tbody>\n",
       "</table>\n",
       "<p>5 rows × 280 columns</p>\n",
       "</div>"
      ],
      "text/plain": [
       "    0     1     2     3     4     5     6     7     8     9    ...  270  271  \\\n",
       "0  2158   315   326   268     2   524     2   107  9755  1263  ...    0    0   \n",
       "1   832  2056   588    13    99    15   488  1757    99   680  ...    0    0   \n",
       "2  3888    17  7924   264  6558  4531   567   197  1853   427  ...    0    0   \n",
       "3    12  1658  3834  6745    12   311  2748    50   757  1768  ...    0    0   \n",
       "4    53  1102  3151   434  1102  2079    59   280   503   503  ...    0    0   \n",
       "\n",
       "   272  273  274  275  276  277  278  279  \n",
       "0    0    0    0    0    0    0    0    0  \n",
       "1    0    0    0    0    0    0    0    0  \n",
       "2    0    0    0    0    0    0    0    0  \n",
       "3    0    0    0    0    0    0    0    0  \n",
       "4    0    0    0    0    0    0    0    0  \n",
       "\n",
       "[5 rows x 280 columns]"
      ]
     },
     "execution_count": 21,
     "metadata": {},
     "output_type": "execute_result"
    }
   ],
   "source": [
    "X_train_tk = pd.DataFrame(X_train_tk)\n",
    "\n",
    "X_train_tk.head()"
   ]
  },
  {
   "cell_type": "code",
   "execution_count": 22,
   "id": "a5f98f38",
   "metadata": {},
   "outputs": [
    {
     "name": "stdout",
     "output_type": "stream",
     "text": [
      "Before resampling X: (95730, 280), y: (95730, 6)\n"
     ]
    },
    {
     "ename": "IndexError",
     "evalue": "single positional indexer is out-of-bounds",
     "output_type": "error",
     "traceback": [
      "\u001b[1;31m---------------------------------------------------------------------------\u001b[0m",
      "\u001b[1;31mIndexError\u001b[0m                                Traceback (most recent call last)",
      "Cell \u001b[1;32mIn[22], line 6\u001b[0m\n\u001b[0;32m      3\u001b[0m sampler \u001b[38;5;241m=\u001b[39m MultiLabelSMOTE()\n\u001b[0;32m      5\u001b[0m \u001b[38;5;28mprint\u001b[39m(\u001b[38;5;124mf\u001b[39m\u001b[38;5;124m\"\u001b[39m\u001b[38;5;124mBefore resampling X: \u001b[39m\u001b[38;5;132;01m{\u001b[39;00mX_train_tk\u001b[38;5;241m.\u001b[39mshape\u001b[38;5;132;01m}\u001b[39;00m\u001b[38;5;124m, y: \u001b[39m\u001b[38;5;132;01m{\u001b[39;00my_train\u001b[38;5;241m.\u001b[39mshape\u001b[38;5;132;01m}\u001b[39;00m\u001b[38;5;124m\"\u001b[39m)\n\u001b[1;32m----> 6\u001b[0m X_train_resample, y_train_resample \u001b[38;5;241m=\u001b[39m \u001b[43msampler\u001b[49m\u001b[38;5;241;43m.\u001b[39;49m\u001b[43mfit_resample\u001b[49m\u001b[43m(\u001b[49m\u001b[43mX_train_tk\u001b[49m\u001b[43m,\u001b[49m\u001b[43my_train\u001b[49m\u001b[43m)\u001b[49m\n\u001b[0;32m      8\u001b[0m \u001b[38;5;28mprint\u001b[39m(\u001b[38;5;124mf\u001b[39m\u001b[38;5;124m\"\u001b[39m\u001b[38;5;124mAfter resampling X: \u001b[39m\u001b[38;5;132;01m{\u001b[39;00mX_train_resample\u001b[38;5;241m.\u001b[39mshape\u001b[38;5;132;01m}\u001b[39;00m\u001b[38;5;124m, y: \u001b[39m\u001b[38;5;132;01m{\u001b[39;00my_train_resample\u001b[38;5;241m.\u001b[39mshape\u001b[38;5;132;01m}\u001b[39;00m\u001b[38;5;124m\"\u001b[39m)\n",
      "File \u001b[1;32m~\\Desktop\\MASTER DATA SCIENCE\\deep-learning-e-reti-neurali-artificiali\\Progetto Finale\\MultiLabelSMOTE.py:35\u001b[0m, in \u001b[0;36mMultiLabelSMOTE.fit_resample\u001b[1;34m(self, X, y, n_sample)\u001b[0m\n\u001b[0;32m     22\u001b[0m \u001b[38;5;250m\u001b[39m\u001b[38;5;124;03m\"\"\"\u001b[39;00m\n\u001b[0;32m     23\u001b[0m \u001b[38;5;124;03mFit the MLSMOTE and resample data. \u001b[39;00m\n\u001b[0;32m     24\u001b[0m \n\u001b[1;32m   (...)\u001b[0m\n\u001b[0;32m     32\u001b[0m \u001b[38;5;124;03mtarget: pandas.DataFrame, augmented target vector data\u001b[39;00m\n\u001b[0;32m     33\u001b[0m \u001b[38;5;124;03m\"\"\"\u001b[39;00m\n\u001b[0;32m     34\u001b[0m \u001b[38;5;28mself\u001b[39m\u001b[38;5;241m.\u001b[39mfit(X, y)\n\u001b[1;32m---> 35\u001b[0m \u001b[38;5;28;01mreturn\u001b[39;00m \u001b[38;5;28;43mself\u001b[39;49m\u001b[38;5;241;43m.\u001b[39;49m\u001b[43mresample\u001b[49m\u001b[43m(\u001b[49m\u001b[43mX\u001b[49m\u001b[43m,\u001b[49m\u001b[43m \u001b[49m\u001b[43my\u001b[49m\u001b[43m,\u001b[49m\u001b[43m \u001b[49m\u001b[43mn_sample\u001b[49m\u001b[43m)\u001b[49m\n",
      "File \u001b[1;32m~\\Desktop\\MASTER DATA SCIENCE\\deep-learning-e-reti-neurali-artificiali\\Progetto Finale\\MultiLabelSMOTE.py:76\u001b[0m, in \u001b[0;36mMultiLabelSMOTE.resample\u001b[1;34m(self, X, y, n_sample)\u001b[0m\n\u001b[0;32m     73\u001b[0m ratio \u001b[38;5;241m=\u001b[39m random\u001b[38;5;241m.\u001b[39mrandom() \u001b[38;5;66;03m#lambda\u001b[39;00m\n\u001b[0;32m     74\u001b[0m \u001b[38;5;66;03m# x_i = X_sub.loc[reference,:]\u001b[39;00m\n\u001b[0;32m     75\u001b[0m \u001b[38;5;66;03m# x_zi = self.X_sub.loc[neighbour,:] (vicino selezionato)\u001b[39;00m\n\u001b[1;32m---> 76\u001b[0m gap \u001b[38;5;241m=\u001b[39m \u001b[38;5;28mself\u001b[39m\u001b[38;5;241m.\u001b[39mX_sub\u001b[38;5;241m.\u001b[39miloc[reference,:] \u001b[38;5;241m-\u001b[39m \u001b[38;5;28;43mself\u001b[39;49m\u001b[38;5;241;43m.\u001b[39;49m\u001b[43mX_sub\u001b[49m\u001b[38;5;241;43m.\u001b[39;49m\u001b[43miloc\u001b[49m\u001b[43m[\u001b[49m\u001b[43mneighbour\u001b[49m\u001b[43m,\u001b[49m\u001b[43m:\u001b[49m\u001b[43m]\u001b[49m\n\u001b[0;32m     77\u001b[0m \u001b[38;5;66;03m# new_X[i] = np.array(self.X_sub.loc[reference,:] + ratio * gap)\u001b[39;00m\n\u001b[0;32m     78\u001b[0m new_X[i] \u001b[38;5;241m=\u001b[39m np\u001b[38;5;241m.\u001b[39mround(np\u001b[38;5;241m.\u001b[39mabs(\u001b[38;5;28mself\u001b[39m\u001b[38;5;241m.\u001b[39mX_sub\u001b[38;5;241m.\u001b[39miloc[reference,:] \u001b[38;5;241m+\u001b[39m ratio \u001b[38;5;241m*\u001b[39m gap))\u001b[38;5;241m.\u001b[39mastype(\u001b[38;5;28mint\u001b[39m)\n",
      "File \u001b[1;32m~\\Desktop\\MASTER DATA SCIENCE\\deep_learning_env\\Lib\\site-packages\\pandas\\core\\indexing.py:1184\u001b[0m, in \u001b[0;36m_LocationIndexer.__getitem__\u001b[1;34m(self, key)\u001b[0m\n\u001b[0;32m   1182\u001b[0m     \u001b[38;5;28;01mif\u001b[39;00m \u001b[38;5;28mself\u001b[39m\u001b[38;5;241m.\u001b[39m_is_scalar_access(key):\n\u001b[0;32m   1183\u001b[0m         \u001b[38;5;28;01mreturn\u001b[39;00m \u001b[38;5;28mself\u001b[39m\u001b[38;5;241m.\u001b[39mobj\u001b[38;5;241m.\u001b[39m_get_value(\u001b[38;5;241m*\u001b[39mkey, takeable\u001b[38;5;241m=\u001b[39m\u001b[38;5;28mself\u001b[39m\u001b[38;5;241m.\u001b[39m_takeable)\n\u001b[1;32m-> 1184\u001b[0m     \u001b[38;5;28;01mreturn\u001b[39;00m \u001b[38;5;28;43mself\u001b[39;49m\u001b[38;5;241;43m.\u001b[39;49m\u001b[43m_getitem_tuple\u001b[49m\u001b[43m(\u001b[49m\u001b[43mkey\u001b[49m\u001b[43m)\u001b[49m\n\u001b[0;32m   1185\u001b[0m \u001b[38;5;28;01melse\u001b[39;00m:\n\u001b[0;32m   1186\u001b[0m     \u001b[38;5;66;03m# we by definition only have the 0th axis\u001b[39;00m\n\u001b[0;32m   1187\u001b[0m     axis \u001b[38;5;241m=\u001b[39m \u001b[38;5;28mself\u001b[39m\u001b[38;5;241m.\u001b[39maxis \u001b[38;5;129;01mor\u001b[39;00m \u001b[38;5;241m0\u001b[39m\n",
      "File \u001b[1;32m~\\Desktop\\MASTER DATA SCIENCE\\deep_learning_env\\Lib\\site-packages\\pandas\\core\\indexing.py:1690\u001b[0m, in \u001b[0;36m_iLocIndexer._getitem_tuple\u001b[1;34m(self, tup)\u001b[0m\n\u001b[0;32m   1689\u001b[0m \u001b[38;5;28;01mdef\u001b[39;00m \u001b[38;5;21m_getitem_tuple\u001b[39m(\u001b[38;5;28mself\u001b[39m, tup: \u001b[38;5;28mtuple\u001b[39m):\n\u001b[1;32m-> 1690\u001b[0m     tup \u001b[38;5;241m=\u001b[39m \u001b[38;5;28;43mself\u001b[39;49m\u001b[38;5;241;43m.\u001b[39;49m\u001b[43m_validate_tuple_indexer\u001b[49m\u001b[43m(\u001b[49m\u001b[43mtup\u001b[49m\u001b[43m)\u001b[49m\n\u001b[0;32m   1691\u001b[0m     \u001b[38;5;28;01mwith\u001b[39;00m suppress(IndexingError):\n\u001b[0;32m   1692\u001b[0m         \u001b[38;5;28;01mreturn\u001b[39;00m \u001b[38;5;28mself\u001b[39m\u001b[38;5;241m.\u001b[39m_getitem_lowerdim(tup)\n",
      "File \u001b[1;32m~\\Desktop\\MASTER DATA SCIENCE\\deep_learning_env\\Lib\\site-packages\\pandas\\core\\indexing.py:966\u001b[0m, in \u001b[0;36m_LocationIndexer._validate_tuple_indexer\u001b[1;34m(self, key)\u001b[0m\n\u001b[0;32m    964\u001b[0m \u001b[38;5;28;01mfor\u001b[39;00m i, k \u001b[38;5;129;01min\u001b[39;00m \u001b[38;5;28menumerate\u001b[39m(key):\n\u001b[0;32m    965\u001b[0m     \u001b[38;5;28;01mtry\u001b[39;00m:\n\u001b[1;32m--> 966\u001b[0m         \u001b[38;5;28;43mself\u001b[39;49m\u001b[38;5;241;43m.\u001b[39;49m\u001b[43m_validate_key\u001b[49m\u001b[43m(\u001b[49m\u001b[43mk\u001b[49m\u001b[43m,\u001b[49m\u001b[43m \u001b[49m\u001b[43mi\u001b[49m\u001b[43m)\u001b[49m\n\u001b[0;32m    967\u001b[0m     \u001b[38;5;28;01mexcept\u001b[39;00m \u001b[38;5;167;01mValueError\u001b[39;00m \u001b[38;5;28;01mas\u001b[39;00m err:\n\u001b[0;32m    968\u001b[0m         \u001b[38;5;28;01mraise\u001b[39;00m \u001b[38;5;167;01mValueError\u001b[39;00m(\n\u001b[0;32m    969\u001b[0m             \u001b[38;5;124m\"\u001b[39m\u001b[38;5;124mLocation based indexing can only have \u001b[39m\u001b[38;5;124m\"\u001b[39m\n\u001b[0;32m    970\u001b[0m             \u001b[38;5;124mf\u001b[39m\u001b[38;5;124m\"\u001b[39m\u001b[38;5;124m[\u001b[39m\u001b[38;5;132;01m{\u001b[39;00m\u001b[38;5;28mself\u001b[39m\u001b[38;5;241m.\u001b[39m_valid_types\u001b[38;5;132;01m}\u001b[39;00m\u001b[38;5;124m] types\u001b[39m\u001b[38;5;124m\"\u001b[39m\n\u001b[0;32m    971\u001b[0m         ) \u001b[38;5;28;01mfrom\u001b[39;00m \u001b[38;5;21;01merr\u001b[39;00m\n",
      "File \u001b[1;32m~\\Desktop\\MASTER DATA SCIENCE\\deep_learning_env\\Lib\\site-packages\\pandas\\core\\indexing.py:1592\u001b[0m, in \u001b[0;36m_iLocIndexer._validate_key\u001b[1;34m(self, key, axis)\u001b[0m\n\u001b[0;32m   1590\u001b[0m     \u001b[38;5;28;01mreturn\u001b[39;00m\n\u001b[0;32m   1591\u001b[0m \u001b[38;5;28;01melif\u001b[39;00m is_integer(key):\n\u001b[1;32m-> 1592\u001b[0m     \u001b[38;5;28;43mself\u001b[39;49m\u001b[38;5;241;43m.\u001b[39;49m\u001b[43m_validate_integer\u001b[49m\u001b[43m(\u001b[49m\u001b[43mkey\u001b[49m\u001b[43m,\u001b[49m\u001b[43m \u001b[49m\u001b[43maxis\u001b[49m\u001b[43m)\u001b[49m\n\u001b[0;32m   1593\u001b[0m \u001b[38;5;28;01melif\u001b[39;00m \u001b[38;5;28misinstance\u001b[39m(key, \u001b[38;5;28mtuple\u001b[39m):\n\u001b[0;32m   1594\u001b[0m     \u001b[38;5;66;03m# a tuple should already have been caught by this point\u001b[39;00m\n\u001b[0;32m   1595\u001b[0m     \u001b[38;5;66;03m# so don't treat a tuple as a valid indexer\u001b[39;00m\n\u001b[0;32m   1596\u001b[0m     \u001b[38;5;28;01mraise\u001b[39;00m IndexingError(\u001b[38;5;124m\"\u001b[39m\u001b[38;5;124mToo many indexers\u001b[39m\u001b[38;5;124m\"\u001b[39m)\n",
      "File \u001b[1;32m~\\Desktop\\MASTER DATA SCIENCE\\deep_learning_env\\Lib\\site-packages\\pandas\\core\\indexing.py:1685\u001b[0m, in \u001b[0;36m_iLocIndexer._validate_integer\u001b[1;34m(self, key, axis)\u001b[0m\n\u001b[0;32m   1683\u001b[0m len_axis \u001b[38;5;241m=\u001b[39m \u001b[38;5;28mlen\u001b[39m(\u001b[38;5;28mself\u001b[39m\u001b[38;5;241m.\u001b[39mobj\u001b[38;5;241m.\u001b[39m_get_axis(axis))\n\u001b[0;32m   1684\u001b[0m \u001b[38;5;28;01mif\u001b[39;00m key \u001b[38;5;241m>\u001b[39m\u001b[38;5;241m=\u001b[39m len_axis \u001b[38;5;129;01mor\u001b[39;00m key \u001b[38;5;241m<\u001b[39m \u001b[38;5;241m-\u001b[39mlen_axis:\n\u001b[1;32m-> 1685\u001b[0m     \u001b[38;5;28;01mraise\u001b[39;00m \u001b[38;5;167;01mIndexError\u001b[39;00m(\u001b[38;5;124m\"\u001b[39m\u001b[38;5;124msingle positional indexer is out-of-bounds\u001b[39m\u001b[38;5;124m\"\u001b[39m)\n",
      "\u001b[1;31mIndexError\u001b[0m: single positional indexer is out-of-bounds"
     ]
    }
   ],
   "source": [
    "from MultiLabelSMOTE import MultiLabelSMOTE\n",
    "\n",
    "sampler = MultiLabelSMOTE()\n",
    "\n",
    "print(f\"Before resampling X: {X_train_tk.shape}, y: {y_train.shape}\")\n",
    "X_train_resample, y_train_resample = sampler.fit_resample(X_train_tk,y_train)\n",
    "\n",
    "print(f\"After resampling X: {X_train_resample.shape}, y: {y_train_resample.shape}\")\n",
    "\n",
    "\n"
   ]
  },
  {
   "cell_type": "code",
   "execution_count": null,
   "id": "3c384459",
   "metadata": {},
   "outputs": [],
   "source": [
    "# int(\"00100\",2)\n",
    "# int(''.join(y_train[258,:].astype(str)),2)"
   ]
  },
  {
   "cell_type": "markdown",
   "id": "6a6421ed",
   "metadata": {
    "id": "6a6421ed"
   },
   "source": [
    " # IDEA!\n",
    "\n",
    " Posso fare il modello così:\n",
    "1. Preprocessing del testo:\n",
    "    - Gestione delle stop words, conversione in token e padding delle sequenze (Layer TextVectorization? da capire)\n",
    "1. Embedding (classico, senza troppi fronzoli, Layer Embedding)\n",
    "1. Parte ricorrente:\n",
    "    - Uso le GRU (o LSTM, da decidere) con Bidirectional, così da vedere le sequenze in entrambi i versi\n",
    "1. Fare ritornare al layer ricorrente tutta la sequenza:\n",
    "    - Così in output ho shape `(batch_size, timestamps, n_features_RNN)`\n",
    "1. Layer CNN:\n",
    "    - tratto l'output della RNN come un'immagine a singolo canale, cioè `(batch_size,height,width)` = `(batch_size, timestamps, n_feat_RNN)`\n",
    "    In sostanza, è come ottenere uno spettrogramma della sequenza, ma invece della trasformata di Fourier c'è l'output della RNN.\n",
    "1. Layer di pooling (come fatto di solito nelle CNN).\n",
    "1. Flattening (o qualche sostituto)\n",
    "1. Layer denso con funz. di attivazione sigmoide:\n",
    "    - Quesro layer è l'output. Ha `n_neuroni = n_classi`, dove ogni neurone farà una classificazione binaria per una classe possibile.\n",
    "    Ogni neurone produce un elemento del vettore di output da 6 elementi di 0 e 1.\n",
    "\n",
    "Non si usa la softmax in output poichè la softmax è usata quando c'è una relazione 1:1 tra record e classi (cioè 1 record ha solo 1 classe),\n",
    "mentre qui la relazione è 1:N (1 record può avere più di una classe, cioè più 1 nell'output)"
   ]
  },
  {
   "cell_type": "code",
   "execution_count": null,
   "id": "cf896f56",
   "metadata": {},
   "outputs": [],
   "source": []
  },
  {
   "cell_type": "markdown",
   "id": "86867536",
   "metadata": {},
   "source": [
    "## Model"
   ]
  },
  {
   "cell_type": "code",
   "execution_count": null,
   "id": "e666298f",
   "metadata": {
    "colab": {
     "base_uri": "https://localhost:8080/",
     "height": 1000
    },
    "id": "e666298f",
    "outputId": "657a32bd-ff96-4ee3-a438-945e82c73bf1"
   },
   "outputs": [],
   "source": [
    "clear_session()\n",
    "\n",
    "max_tokens = 10000 # Numero massimo di token nel vocabolario\n",
    "max_len = 280 # Lunghezza massima delle sequenze di input - usare 3° interquartile di lunghezze di sequenza\n",
    "embedding_dim = 256 #dimensione embedding\n",
    "rnn_dim = 128 #dimensione layer RNN\n",
    "\n",
    "# input_layer = Input(shape = (maxlen_seq,), name=\"Input_layer\")\n",
    "input_layer = Input(shape = (1,),dtype='string', name=\"Input_layer\")\n",
    "\n",
    "vectorize_layer = TextVectorization(max_tokens=max_tokens, output_mode='int', output_sequence_length=max_len)\n",
    "vectorize_layer.adapt(X_train)\n",
    "tmp = vectorize_layer(input_layer)\n",
    "\n",
    "embedding_layer = Embedding(max_tokens, embedding_dim, name =\"Embedding_layer\")(tmp)\n",
    "recursive_layer = Bidirectional(GRU(rnn_dim, return_sequences=False,name=\"GRU\"),name=\"Bidirectional_layer\")(embedding_layer)\n",
    "dense_layer = Dense(1024, activation = 'relu', name ='Dense')(recursive_layer)\n",
    "output_layer = Dense(6,activation='sigmoid', name = \"Sigmoid_layer\")(dense_layer)\n",
    "\n",
    "model = Model(inputs=input_layer, outputs=output_layer)\n",
    "\n",
    "# plot_file = 'model_plot_new.png'\n",
    "# plot_model(model, to_file=plot_file, show_shapes=True,\n",
    "#            show_layer_names=True)"
   ]
  },
  {
   "cell_type": "code",
   "execution_count": null,
   "id": "334c9d98",
   "metadata": {
    "colab": {
     "base_uri": "https://localhost:8080/",
     "height": 337
    },
    "id": "334c9d98",
    "outputId": "3a991845-29af-484c-b2bd-2e4d0360bd30"
   },
   "outputs": [],
   "source": [
    "model.compile(optimizer='adam', loss='binary_crossentropy', metrics=['F1Score'])\n",
    "model.summary()"
   ]
  },
  {
   "cell_type": "code",
   "execution_count": null,
   "id": "dbdbda94",
   "metadata": {
    "colab": {
     "base_uri": "https://localhost:8080/"
    },
    "id": "dbdbda94",
    "outputId": "ee2c2f59-3898-46ab-93fa-3891d47691f6"
   },
   "outputs": [],
   "source": [
    "%%time\n",
    "# history = model.fit(X_train,y_train,epochs=20,batch_size=32,validation_split=0.2)"
   ]
  },
  {
   "cell_type": "code",
   "execution_count": null,
   "id": "ed763b62",
   "metadata": {
    "id": "ed763b62"
   },
   "outputs": [],
   "source": [
    "def plot_learning_curve(history):\n",
    "    plt.figure(figsize=(16,10))\n",
    "    plt.subplot(2,1,1)\n",
    "    plt.plot(history.history[\"loss\"], label= \"train\")\n",
    "    plt.plot(history.history[\"val_loss\"], label = \"valid\")\n",
    "    plt.xlabel(\"Epoch\")\n",
    "    plt.legend()\n",
    "    plt.title(\"Loss\")\n",
    "    plt.subplot(2,1,2)\n",
    "    plt.plot(np.mean(history.history[\"F1Score\"],axis=1), label=\"train\")\n",
    "    plt.plot(np.mean(history.history[\"val_F1Score\"],axis=1), label = \"valid\")\n",
    "    plt.xlabel(\"Epoch\")\n",
    "    plt.legend()\n",
    "    plt.title(\"F1Score\")\n",
    "    plt.show()"
   ]
  },
  {
   "cell_type": "code",
   "execution_count": null,
   "id": "5d87450d",
   "metadata": {
    "colab": {
     "base_uri": "https://localhost:8080/",
     "height": 872
    },
    "id": "5d87450d",
    "outputId": "12919ef5-72d3-484e-be33-c41b5ad3a191"
   },
   "outputs": [],
   "source": [
    "plot_learning_curve(history)"
   ]
  }
 ],
 "metadata": {
  "accelerator": "GPU",
  "colab": {
   "gpuType": "T4",
   "provenance": []
  },
  "kernelspec": {
   "display_name": "deep_learning_kernel",
   "language": "python",
   "name": "deep_learning_kernel"
  },
  "language_info": {
   "codemirror_mode": {
    "name": "ipython",
    "version": 3
   },
   "file_extension": ".py",
   "mimetype": "text/x-python",
   "name": "python",
   "nbconvert_exporter": "python",
   "pygments_lexer": "ipython3",
   "version": "3.11.1"
  }
 },
 "nbformat": 4,
 "nbformat_minor": 5
}
